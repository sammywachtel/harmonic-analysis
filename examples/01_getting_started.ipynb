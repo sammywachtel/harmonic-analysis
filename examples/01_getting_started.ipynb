{
 "cells": [
  {
   "cell_type": "markdown",
   "metadata": {},
   "source": [
    "# Getting Started with Harmonic Analysis\n",
    "\n",
    "Welcome to the harmonic analysis library! This tutorial will introduce you to the fundamentals of music theory and show you how to use this library to analyze chord progressions.\n",
    "\n",
    "## What You'll Learn\n",
    "- Basic music theory concepts: keys, chords, and progressions\n",
    "- How to use the PatternAnalysisService for chord progression analysis\n",
    "- Understanding functional vs. modal harmony\n",
    "- Interpreting analysis results\n",
    "\n",
    "## Prerequisites\n",
    "- Basic Python knowledge\n",
    "- No music theory background required (we'll teach you!)"
   ]
  },
  {
   "cell_type": "markdown",
   "metadata": {},
   "source": [
    "## 🎵 Music Theory Basics\n",
    "\n",
    "Before we dive into the code, let's understand some fundamental music theory concepts.\n",
    "\n",
    "### Keys and Key Signatures\n",
    "A **key** establishes the tonal center of a piece of music. The most common keys are:\n",
    "- **Major keys**: Sound bright and happy (e.g., C major)\n",
    "- **Minor keys**: Sound sad or mysterious (e.g., A minor)\n",
    "\n",
    "### Roman Numeral Analysis\n",
    "In music theory, we use Roman numerals to describe chords within a key:\n",
    "- **I, ii, iii, IV, V, vi, vii°** (in major keys)\n",
    "- **i, ii°, III, iv, v, VI, VII** (in minor keys)\n",
    "\n",
    "### Chord Functions\n",
    "Chords have different **functions** in music:\n",
    "- **Tonic (T)**: Home, stable (I, vi)\n",
    "- **Predominant (PD)**: Leads toward dominant (ii, IV)\n",
    "- **Dominant (D)**: Creates tension, wants to resolve (V, vii°)"
   ]
  },
  {
   "cell_type": "code",
   "metadata": {
    "ExecuteTime": {
     "end_time": "2025-09-10T18:51:46.603166Z",
     "start_time": "2025-09-10T18:51:46.576578Z"
    }
   },
   "source": "# Let's start by importing the library\nfrom harmonic_analysis.dto import SectionDTO\nfrom harmonic_analysis.services.pattern_analysis_service import PatternAnalysisService\n\n# Create an instance of the analysis service\nanalyzer = PatternAnalysisService()\n\nprint(\"🎼 Harmonic Analysis Library loaded successfully!\")\nprint(\"Ready to analyze chord progressions...\")",
   "outputs": [],
   "execution_count": null
  },
  {
   "cell_type": "markdown",
   "metadata": {},
   "source": [
    "## 🏗️ Your First Analysis: The Classic I-IV-V-I\n",
    "\n",
    "Let's analyze the most famous chord progression in Western music: **I-IV-V-I**.\n",
    "\n",
    "In the key of C major, this becomes: **C - F - G - C**"
   ]
  },
  {
   "cell_type": "code",
   "metadata": {
    "ExecuteTime": {
     "end_time": "2025-09-10T18:52:03.696542Z",
     "start_time": "2025-09-10T18:52:03.690358Z"
    }
   },
   "source": "# Show any detected patterns with new section-aware format\nif summary.patterns:\n    print(f\"\\n🎯 DETECTED PATTERNS:\")\n    for m in summary.patterns:\n        span = f\"[{m.start}:{m.end})\"\n        cadence_info = f\" — {m.cadence_role} cadence\" if m.cadence_role else \"\"\n        sec = f\" (sec {m.section})\" if m.section else \"\"\n        print(f\"  • {m.name} {span}{sec}  score={m.score:.2f}{cadence_info}\")\n        for ev in m.evidence:\n            i = ev.get(\"abs_index\", m.start + ev.get(\"step_index\", 0))\n            chord_at_i = chord_progression[i] if 0 <= i < len(chord_progression) else \"?\"\n            roman = ev.get('roman', '?')\n            role = ev.get('role', '?')\n            flags = ev.get('flags', [])\n            print(f\"     · {roman:>6}  {role:<2}  i={i} ({chord_at_i})  flags={flags}\")\n\n# Show final cadence if present\nif summary.final_cadence:\n    m = summary.final_cadence\n    print(f\"\\n🏁 Final cadence: {m.name} at [{m.start}:{m.end}) (score={m.score:.2f})\")",
   "outputs": [],
   "execution_count": null
  },
  {
   "cell_type": "markdown",
   "metadata": {},
   "source": [
    "### 🎓 Understanding the Results\n",
    "\n",
    "The I-IV-V-I progression demonstrates the **fundamental cycle of tension and release** in tonal music:\n",
    "\n",
    "1. **I (C)**: We start at home (tonic)\n",
    "2. **IV (F)**: Move to the predominant, creating mild tension\n",
    "3. **V (G)**: The dominant creates strong tension that wants to resolve\n",
    "4. **I (C)**: Return home, providing satisfying resolution\n",
    "\n",
    "This progression is used in countless songs from classical to pop music!"
   ]
  },
  {
   "cell_type": "markdown",
   "metadata": {},
   "source": [
    "## 🌊 Exploring Different Progressions\n",
    "\n",
    "Let's try some other common progressions to see how they differ:"
   ]
  },
  {
   "cell_type": "code",
   "metadata": {
    "ExecuteTime": {
     "end_time": "2025-09-10T21:36:29.528992Z",
     "start_time": "2025-09-10T21:36:29.523664Z"
    }
   },
   "source": "# Popular progressions to analyze\nprogressions = {\n    \"Pop progression (vi-IV-I-V)\": [\"Am\", \"F\", \"C\", \"G\"],\n    \"Jazz turnaround (I-vi-ii-V)\": [\"C\", \"Am\", \"Dm\", \"G\"],\n    \"Sad progression (vi-IV-I-V)\": [\"Am\", \"F\", \"C\", \"G\"],\n    \"Circle of fifths\": [\"C\", \"F\", \"Bb\", \"Eb\"]\n}\n\ndef show_patterns(summary, chords):\n    \"\"\"Helper function to display patterns with section-aware formatting.\"\"\"\n    if not summary.patterns:\n        print(\"No patterns detected.\")\n        return\n    print(\"🎯 Patterns:\")\n    for m in summary.patterns:\n        span = f\"[{m.start}:{m.end})\"\n        cadence_info = f\" — {m.cadence_role} cadence\" if m.cadence_role else \"\"\n        sec = f\" (sec {m.section})\" if m.section else \"\"\n        print(f\"  • {m.name} {span}{sec}  score={m.score:.2f}{cadence_info}\")\n        for ev in m.evidence:\n            i = ev.get(\"abs_index\", m.start + ev.get(\"step_index\", 0))\n            chord_at_i = chords[i] if 0 <= i < len(chords) else \"?\"\n            print(f\"     · {ev['roman']:>6}  {ev['role']:<2}  i={i} ({chord_at_i})  flags={ev.get('flags', [])}\")\n\nfor name, chords in progressions.items():\n    print(f\"\\n{'='*50}\")\n    print(f\"🎵 {name}\")\n    print(f\"Chords: {' → '.join(chords)}\")\n    \n    # Analyze the progression using the new DTO API\n    result = analyzer.analyze_with_patterns(chords)\n    summary = result.primary\n    \n    print(f\"Key: {summary.key_signature}\")\n    print(f\"Roman numerals: {' → '.join(summary.roman_numerals)}\")\n    print(f\"Confidence: {summary.confidence:.1%}\")\n    \n    # Show detected patterns with new format\n    show_patterns(summary, chords)\n    \n    # Show final cadence if present\n    if summary.final_cadence:\n        m = summary.final_cadence\n        print(f\"🏁 Final cadence: {m.name} at [{m.start}:{m.end})\")",
   "outputs": [],
   "execution_count": null
  },
  {
   "cell_type": "markdown",
   "metadata": {},
   "source": [
    "## 🎭 Modal vs. Functional Analysis\n",
    "\n",
    "The library can distinguish between two main types of harmonic analysis:\n",
    "\n",
    "### Functional Harmony\n",
    "- Based on major/minor keys\n",
    "- Uses chord functions (tonic, predominant, dominant)\n",
    "- Most common in classical and popular music\n",
    "\n",
    "### Modal Harmony\n",
    "- Based on ancient modes (Dorian, Mixolydian, etc.)\n",
    "- Different \"flavors\" or \"colors\" of major and minor\n",
    "- Common in folk, jazz, and modern music\n",
    "\n",
    "Let's explore a modal progression:"
   ]
  },
  {
   "cell_type": "code",
   "execution_count": null,
   "metadata": {},
   "outputs": [],
   "source": "# A progression that suggests Mixolydian mode (has ♭VII chord)\nmodal_progression = [\"G\", \"F\", \"C\", \"G\"]\n\nprint(f\"🎵 Modal progression: {' → '.join(modal_progression)}\")\nprint(\"This progression features the ♭VII chord (F in G), suggesting Mixolydian mode\")\n\nresult = analyzer.analyze_with_patterns(modal_progression)\nsummary = result.primary\n\nprint(\"\\n📊 ANALYSIS RESULTS:\")\nprint(f\"Primary analysis type: {summary.type.value}\")\nprint(f\"Key signature: {summary.key_signature}\")\nprint(f\"Mode: {summary.mode}\")\nprint(f\"Roman numerals: {' → '.join(summary.roman_numerals)}\")\n\n# Show confidence breakdown\nprint(f\"\\nConfidence breakdown:\")\nprint(f\"  Functional confidence: {summary.functional_confidence}\")\nprint(f\"  Modal confidence: {summary.modal_confidence}\")\n\n# Check for modal characteristics\nif summary.modal_characteristics:\n    print(f\"\\n🌈 Modal characteristics:\")\n    for characteristic in summary.modal_characteristics:\n        print(f\"  - {characteristic}\")\n\n# Show alternative analyses\nif result.alternatives:\n    print(f\"\\n🔍 Alternative interpretations:\")\n    for alt in result.alternatives[:2]:\n        print(f\"  - {alt.type.value}: {alt.key_signature} (confidence: {alt.confidence:.1%})\")"
  },
  {
   "cell_type": "markdown",
   "metadata": {},
   "source": [
    "### 🎨 What Makes This Modal?\n",
    "\n",
    "The **♭VII chord** (F in the key of G) is the telltale sign of Mixolydian mode:\n",
    "- In G major, the VII chord would be F# diminished\n",
    "- But we have F major instead, which gives the \"Mixolydian flavor\"\n",
    "- This creates a more relaxed, bluesy sound than pure major\n",
    "\n",
    "Think of \"Sweet Child O' Mine\" by Guns N' Roses - it uses this exact progression!"
   ]
  },
  {
   "cell_type": "markdown",
   "metadata": {},
   "source": [
    "## 🧪 Experiment Time!\n",
    "\n",
    "Now it's your turn to experiment. Try analyzing some chord progressions from your favorite songs:"
   ]
  },
  {
   "cell_type": "code",
   "execution_count": null,
   "metadata": {},
   "outputs": [],
   "source": "# Try your own chord progressions here!\n# Some suggestions to get you started:\n\nmy_progressions = [\n    # Add your own chord progressions here\n    # Examples:\n    # [\"Em\", \"C\", \"G\", \"D\"],  # \"Wonderwall\" by Oasis\n    # [\"F\", \"C\", \"G\", \"Am\"],  # \"Let It Be\" by The Beatles\n    # [\"Am\", \"Dm\", \"G\", \"C\"], # \"Eleanor Rigby\" type progression\n]\n\nfor progression in my_progressions:\n    print(f\"\\n🎵 Analyzing: {' → '.join(progression)}\")\n    result = analyzer.analyze_with_patterns(progression)\n    summary = result.primary\n    print(f\"Key: {summary.key_signature}\")\n    print(f\"Roman numerals: {' → '.join(summary.roman_numerals)}\")\n    print(f\"Type: {summary.type.value} (confidence: {summary.confidence:.1%})\")\n    \n    # Show any patterns detected\n    if summary.patterns:\n        print(\"🎯 Patterns:\")\n        for m in summary.patterns[:2]:  # Show first 2 patterns\n            span = f\"[{m.start}:{m.end})\"\n            print(f\"  • {m.name} {span}  score={m.score:.2f}\")\n\n# Example: Let's analyze a song with sections\nprint(\"\\n\" + \"=\"*60)\nprint(\"🎵 SECTION-AWARE ANALYSIS EXAMPLE\")\nprint(\"Let's analyze a longer progression and define sections:\")\n\n# Simulate a verse-chorus structure\nbig_song = [\"Am\", \"F\", \"C\", \"G\", \"Am\", \"F\", \"C\", \"G\", \"F\", \"G\", \"Am\", \"Am\"]\n\n# Define sections manually\nsections = [\n    SectionDTO(id=\"A\", start=0, end=8, label=\"Verse\"),\n    SectionDTO(id=\"B\", start=8, end=12, label=\"Chorus\"),\n]\n\nresult = analyzer.analyze_with_patterns(big_song, sections=sections)\nsummary = result.primary\n\nprint(f\"Song: {' → '.join(big_song)}\")\nprint(f\"Key: {summary.key_signature}\")\n\nif summary.sections:\n    print(\"\\nSections:\")\n    for s in summary.sections:\n        chords_in_section = big_song[s.start:s.end]\n        print(f\"  {s.id} ({s.label}): measures {s.start}-{s.end-1} → {' → '.join(chords_in_section)}\")\n\nprint(\"\\nTerminal cadences:\")\nfor m in summary.terminal_cadences:\n    print(f\"  • {m.name} in section {m.section} at [{m.start}:{m.end})\")\n\nif summary.final_cadence:\n    m = summary.final_cadence\n    print(f\"\\n🏁 Final cadence: {m.name} at [{m.start}:{m.end}) (score={m.score:.2f})\")"
  },
  {
   "cell_type": "markdown",
   "metadata": {},
   "source": [
    "## 🎯 Key Takeaways\n",
    "\n",
    "Congratulations! You've learned:\n",
    "\n",
    "### Music Theory Concepts\n",
    "1. **Roman numeral analysis** helps us understand chord relationships\n",
    "2. **Chord functions** (T, PD, D) explain how harmony creates tension and release\n",
    "3. **Modal harmony** offers different \"colors\" beyond major and minor\n",
    "4. **Pattern recognition** helps identify common musical structures\n",
    "\n",
    "### Library Usage\n",
    "1. **PatternAnalysisService** is your main tool for analysis\n",
    "2. **AnalysisEnvelope** contains primary analysis plus alternatives\n",
    "3. **Confidence scores** help you trust the analysis\n",
    "4. **Pattern detection** identifies musical idioms automatically\n",
    "\n",
    "## 🚀 What's Next?\n",
    "\n",
    "Continue your journey with these tutorials:\n",
    "- **02_pattern_recognition.ipynb** - Deep dive into pattern detection\n",
    "- **03_modal_analysis.ipynb** - Master modal harmony\n",
    "- **04_advanced_progressions.ipynb** - Analyze complex jazz and classical music\n",
    "- **05_character_analysis.ipynb** - Explore emotional and character analysis\n",
    "\n",
    "Happy analyzing! 🎵"
   ]
  }
 ],
 "metadata": {
  "kernelspec": {
   "display_name": "Python 3",
   "language": "python",
   "name": "python3"
  },
  "language_info": {
   "codemirror_mode": {
    "name": "ipython",
    "version": 3
   },
   "file_extension": ".py",
   "mimetype": "text/x-python",
   "name": "python",
   "nbconvert_exporter": "python",
   "pygments_lexer": "ipython3",
   "version": "3.11.0"
  }
 },
 "nbformat": 4,
 "nbformat_minor": 4
}
