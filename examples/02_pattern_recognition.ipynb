{
 "cells": [
  {
   "cell_type": "markdown",
   "metadata": {},
   "source": [
    "# Pattern Recognition in Music\n",
    "\n",
    "Welcome to the world of musical patterns! This tutorial explores how the harmonic analysis library detects and identifies common musical patterns in chord progressions.\n",
    "\n",
    "## What You'll Learn\n",
    "- Understanding musical patterns and idioms\n",
    "- How pattern recognition works in the library\n",
    "- Common patterns in different musical styles\n",
    "- Using pattern analysis for composition and arrangement\n",
    "\n",
    "## Why Patterns Matter\n",
    "Musical patterns are like musical \"words\" or \"phrases\" that composers use repeatedly. Recognizing these patterns helps us:\n",
    "- Understand the \"grammar\" of different musical styles\n",
    "- Analyze complex pieces more efficiently\n",
    "- Compose music in authentic styles\n",
    "- Understand why certain progressions \"work\""
   ]
  },
  {
   "cell_type": "code",
   "execution_count": null,
   "metadata": {},
   "outputs": [],
   "source": "# Import necessary libraries\nfrom harmonic_analysis.dto import SectionDTO\nfrom harmonic_analysis.services.pattern_analysis_service import PatternAnalysisService\n\n# Initialize the analyzer\nanalyzer = PatternAnalysisService()\n\nprint(\"🎼 Pattern Recognition System loaded!\")\nprint(\"Ready to discover musical patterns...\")"
  },
  {
   "cell_type": "markdown",
   "metadata": {},
   "source": [
    "## 🔄 Cadences: The Building Blocks of Harmony\n",
    "\n",
    "**Cadences** are patterns that create closure or continuation in music. They're like musical punctuation marks.\n",
    "\n",
    "### The Authentic Cadence (V-I)\n",
    "The most important cadence in Western music - creates strong resolution."
   ]
  },
  {
   "cell_type": "code",
   "execution_count": null,
   "metadata": {},
   "outputs": [],
   "source": "# Authentic cadence in C major\nauthentic_cadence = [\"G\", \"C\"]\n\nprint(f\"🎵 Authentic Cadence: {' → '.join(authentic_cadence)}\")\nprint(\"This is the V → I motion that defines tonal music\")\n\nresult = analyzer.analyze_with_patterns(authentic_cadence)\nsummary = result.primary\n\nprint(\"\\n📊 ANALYSIS:\")\nprint(f\"Roman numerals: {' → '.join(summary.roman_numerals)}\")\nprint(f\"Key: {summary.key_signature}\")\n\n# Check for detected patterns with new section-aware format\nprint(\"\\n🎯 DETECTED PATTERNS:\")\nfor m in summary.patterns:\n    if m.score > 0.5:  # Show high-confidence patterns\n        span = f\"[{m.start}:{m.end})\"\n        print(f\"  ✓ {m.name} {span} (family: {m.family}, score: {m.score:.2f})\")\n        if m.evidence:\n            print(f\"    Evidence:\")\n            for ev in m.evidence[:2]:\n                i = ev.get(\"abs_index\", m.start + ev.get(\"step_index\", 0))\n                chord_at_i = authentic_cadence[i] if 0 <= i < len(authentic_cadence) else \"?\"\n                print(f\"      · {ev['roman']:>6}  {ev['role']:<2}  i={i} ({chord_at_i})  flags={ev.get('flags', [])}\")\n\n# Show final cadence if present\nif summary.final_cadence:\n    m = summary.final_cadence\n    print(f\"\\n🏁 Final cadence: {m.name} at [{m.start}:{m.end}) (score={m.score:.2f})\")"
  },
  {
   "cell_type": "markdown",
   "metadata": {},
   "source": [
    "### Other Important Cadences"
   ]
  },
  {
   "cell_type": "code",
   "execution_count": null,
   "metadata": {},
   "outputs": [],
   "source": [
    "# Different types of cadences\n",
    "cadences = {\n",
    "    \"Plagal (IV-I)\": [\"F\", \"C\"],\n",
    "    \"Half cadence (I-V)\": [\"C\", \"G\"],\n",
    "    \"Deceptive (V-vi)\": [\"G\", \"Am\"],\n",
    "}\n",
    "\n",
    "for name, progression in cadences.items():\n",
    "    print(f\"\\n{'='*40}\")\n",
    "    print(f\"🎵 {name}: {' → '.join(progression)}\")\n",
    "    \n",
    "    result = await analyzer.analyze_with_patterns_async(progression)\n",
    "    romans = ' → '.join(result.primary.roman_numerals)\n",
    "    print(f\"Roman numerals: {romans}\")\n",
    "    \n",
    "    # Show the musical effect\n",
    "    effects = {\n",
    "        \"Plagal (IV-I)\": \"🙏 'Amen cadence' - gentle, religious feeling\",\n",
    "        \"Half cadence (I-V)\": \"❓ Creates expectation, like a question\",\n",
    "        \"Deceptive (V-vi)\": \"😮 Surprises the ear, avoids expected resolution\"\n",
    "    }\n",
    "    print(f\"Effect: {effects.get(name, '')}\")\n",
    "    \n",
    "    # Show detected patterns\n",
    "    strong_patterns = [p for p in result.primary.patterns if p.score > 0.3]\n",
    "    if strong_patterns:\n",
    "        print(f\"Patterns: {', '.join(p.name for p in strong_patterns[:2])}\")"
   ]
  },
  {
   "cell_type": "markdown",
   "metadata": {},
   "source": [
    "## 🌀 Sequence Patterns\n",
    "\n",
    "**Sequences** are patterns where a musical idea is repeated at different pitch levels. They create forward momentum in music."
   ]
  },
  {
   "cell_type": "code",
   "execution_count": null,
   "metadata": {},
   "outputs": [],
   "source": [
    "# Circle of Fifths progression - descending fifths sequence\n",
    "circle_of_fifths = [\"C\", \"F\", \"Bb\", \"Eb\", \"Ab\"]\n",
    "\n",
    "print(f\"🌀 Circle of Fifths: {' → '.join(circle_of_fifths)}\")\n",
    "print(\"Each chord root descends by a perfect fifth\")\n",
    "print(\"Root motion: C → F (down 5th) → Bb (down 5th) → Eb (down 5th)...\")\n",
    "\n",
    "result = await analyzer.analyze_with_patterns_async(circle_of_fifths)\n",
    "\n",
    "print(\"\\n📊 ANALYSIS:\")\n",
    "print(f\"Key: {result.primary.key_signature}\")\n",
    "print(f\"Roman numerals: {' → '.join(result.primary.roman_numerals)}\")\n",
    "\n",
    "print(\"\\n🎯 SEQUENCE PATTERNS:\")\n",
    "for pattern in result.primary.patterns:\n",
    "    if \"sequence\" in pattern.name.lower() or \"circle\" in pattern.name.lower() or \"fifth\" in pattern.name.lower():\n",
    "        print(f\"  ✓ {pattern.name} (score: {pattern.score:.2f})\")\n",
    "        print(f\"    Family: {pattern.family}\")\n",
    "\n",
    "# Show the mathematical beauty\n",
    "print(\"\\n🔢 THE MATH BEHIND THE MAGIC:\")\n",
    "print(\"Perfect fifth = 7 semitones up = 5 semitones down\")\n",
    "print(\"This creates the strongest possible root motion in tonal music!\")"
   ]
  },
  {
   "cell_type": "markdown",
   "metadata": {},
   "source": [
    "### Jazz ii-V-I Progressions\n",
    "\n",
    "The **ii-V-I** is the most important progression in jazz music."
   ]
  },
  {
   "cell_type": "code",
   "execution_count": null,
   "metadata": {},
   "outputs": [],
   "source": [
    "# Basic ii-V-I in C major\n",
    "jazz_progression = [\"Dm7\", \"G7\", \"Cmaj7\"]\n",
    "\n",
    "print(f\"🎷 Jazz ii-V-I: {' → '.join(jazz_progression)}\")\n",
    "print(\"The backbone of jazz harmony!\")\n",
    "\n",
    "result = await analyzer.analyze_with_patterns_async(jazz_progression)\n",
    "\n",
    "print(\"\\n📊 ANALYSIS:\")\n",
    "print(f\"Roman numerals: {' → '.join(result.primary.roman_numerals)}\")\n",
    "print(f\"Key: {result.primary.key_signature}\")\n",
    "\n",
    "# Show function analysis\n",
    "functions = [\"Predominant\", \"Dominant\", \"Tonic\"]\n",
    "print(\"\\n⚡ HARMONIC FUNCTIONS:\")\n",
    "for chord, roman, function in zip(jazz_progression, result.primary.roman_numerals, functions):\n",
    "    print(f\"  {chord} ({roman}) = {function}\")\n",
    "\n",
    "print(\"\\n🎯 DETECTED PATTERNS:\")\n",
    "for pattern in result.primary.patterns:\n",
    "    if pattern.score > 0.4:\n",
    "        print(f\"  ✓ {pattern.name} (score: {pattern.score:.2f})\")\n",
    "\n",
    "print(\"\\n🎵 WHY IT WORKS:\")\n",
    "print(\"• ii (Dm7): Establishes key, mild tension\")\n",
    "print(\"• V (G7): Strong tension, demands resolution\")\n",
    "print(\"• I (Cmaj7): Home, complete resolution\")\n",
    "print(\"• Root motion by fifths creates smooth voice leading\")"
   ]
  },
  {
   "cell_type": "markdown",
   "metadata": {},
   "source": [
    "## 🏛️ Classical Patterns\n",
    "\n",
    "Classical music has its own set of characteristic patterns."
   ]
  },
  {
   "cell_type": "code",
   "execution_count": null,
   "metadata": {},
   "outputs": [],
   "source": [
    "# Pachelbel's Canon progression - one of the most famous patterns\n",
    "pachelbel = [\"C\", \"G\", \"Am\", \"Em\", \"F\", \"C\", \"F\", \"G\"]\n",
    "\n",
    "print(f\"🏛️ Pachelbel Canon: {' → '.join(pachelbel)}\")\n",
    "print(\"One of the most famous progressions in classical music\")\n",
    "\n",
    "result = await analyzer.analyze_with_patterns_async(pachelbel)\n",
    "\n",
    "print(\"\\n📊 ANALYSIS:\")\n",
    "print(f\"Roman numerals: {' → '.join(result.primary.roman_numerals)}\")\n",
    "print(f\"Key: {result.primary.key_signature}\")\n",
    "\n",
    "print(\"\\n🎯 CLASSICAL PATTERNS:\")\n",
    "for pattern in result.primary.patterns:\n",
    "    if pattern.score > 0.3:\n",
    "        print(f\"  ✓ {pattern.name} (family: {pattern.family}, score: {pattern.score:.2f})\")\n",
    "\n",
    "# Show the bass line pattern\n",
    "print(\"\\n🎼 THE FAMOUS BASS LINE:\")\n",
    "bass_notes = [\"C\", \"B\", \"A\", \"G\", \"F\", \"E\", \"D\", \"G\"]\n",
    "print(\"Bass descends stepwise, creating beautiful voice leading:\")\n",
    "for chord, bass in zip(pachelbel, bass_notes):\n",
    "    print(f\"  {chord} (bass: {bass})\")\n",
    "\n",
    "print(\"\\n🎵 Songs using this progression:\")\n",
    "print(\"• Canon in D - Pachelbel\")\n",
    "print(\"• Don't Stop Believin' - Journey\")\n",
    "print(\"• Basket Case - Green Day\")\n",
    "print(\"• Vitamin C - Graduation Song\")"
   ]
  },
  {
   "cell_type": "markdown",
   "metadata": {},
   "source": [
    "## 🎸 Pop/Rock Patterns\n",
    "\n",
    "Popular music has evolved its own characteristic progressions."
   ]
  },
  {
   "cell_type": "code",
   "execution_count": null,
   "metadata": {},
   "outputs": [],
   "source": [
    "# The \"pop-punk\" progression\n",
    "pop_punk = [\"F\", \"C\", \"G\", \"Am\"]\n",
    "\n",
    "print(f\"🎸 Pop-Punk progression: {' → '.join(pop_punk)}\")\n",
    "print(\"Ubiquitous in 2000s pop and rock music\")\n",
    "\n",
    "result = await analyzer.analyze_with_patterns_async(pop_punk)\n",
    "\n",
    "print(\"\\n📊 ANALYSIS:\")\n",
    "print(f\"Roman numerals: {' → '.join(result.primary.roman_numerals)}\")\n",
    "print(f\"Key: {result.primary.key_signature}\")\n",
    "\n",
    "# Compare with relative minor\n",
    "minor_version = [\"Dm\", \"Am\", \"Em\", \"F\"]\n",
    "print(f\"\\n🔄 In relative minor (Am): {' → '.join(minor_version)}\")\n",
    "result_minor = await analyzer.analyze_with_patterns_async(minor_version)\n",
    "print(f\"Roman numerals: {' → '.join(result_minor.primary.roman_numerals)}\")\n",
    "\n",
    "print(\"\\n🎵 Songs using this progression:\")\n",
    "print(\"• Don't Stop Me Now - Queen\")\n",
    "print(\"• Someone Like You - Adele\")\n",
    "print(\"• Let It Be - Beatles\")\n",
    "print(\"• With or Without You - U2\")\n",
    "\n",
    "print(\"\\n🎯 DETECTED PATTERNS:\")\n",
    "for pattern in result.primary.patterns:\n",
    "    if pattern.score > 0.3:\n",
    "        print(f\"  ✓ {pattern.name} (score: {pattern.score:.2f})\")"
   ]
  },
  {
   "cell_type": "markdown",
   "metadata": {},
   "source": [
    "## 🧪 Advanced Pattern Analysis\n",
    "\n",
    "Let's explore how the library handles complex patterns with multiple interpretations."
   ]
  },
  {
   "cell_type": "code",
   "execution_count": null,
   "metadata": {},
   "outputs": [],
   "source": [
    "# A progression that could be analyzed multiple ways\n",
    "complex_progression = [\"C\", \"Am\", \"F\", \"G\", \"Em\", \"Am\", \"Dm\", \"G\"]\n",
    "\n",
    "print(f\"🧩 Complex progression: {' → '.join(complex_progression)}\")\n",
    "print(\"This progression contains multiple overlapping patterns\")\n",
    "\n",
    "# Analyze with pattern detection\n",
    "result = await analyzer.analyze_with_patterns_async(complex_progression, best_cover=True)\n",
    "\n",
    "print(\"\\n📊 PRIMARY ANALYSIS:\")\n",
    "print(f\"Roman numerals: {' → '.join(result.primary.roman_numerals)}\")\n",
    "print(f\"Key: {result.primary.key_signature}\")\n",
    "print(f\"Type: {result.primary.type.value}\")\n",
    "\n",
    "print(\"\\n🎯 DETECTED PATTERNS (Best non-overlapping cover):\")\n",
    "for pattern in result.primary.patterns:\n",
    "    print(f\"  ✓ {pattern.name}\")\n",
    "    print(f\"    Position: chords {pattern.start}-{pattern.end}\")\n",
    "    print(f\"    Family: {pattern.family}\")\n",
    "    print(f\"    Score: {pattern.score:.2f}\")\n",
    "    print()\n",
    "\n",
    "# Also analyze with all possible patterns\n",
    "result_all = await analyzer.analyze_with_patterns_async(complex_progression, best_cover=False)\n",
    "\n",
    "print(\"\\n🔍 ALL POSSIBLE PATTERNS:\")\n",
    "print(f\"Found {len(result_all.primary.patterns)} total patterns\")\n",
    "top_patterns = sorted(result_all.primary.patterns, key=lambda p: p.score, reverse=True)[:5]\n",
    "for pattern in top_patterns:\n",
    "    print(f\"  • {pattern.name} (pos {pattern.start}-{pattern.end}, score: {pattern.score:.2f})\")"
   ]
  },
  {
   "cell_type": "markdown",
   "metadata": {},
   "source": [
    "## 🎼 Style-Specific Pattern Recognition\n",
    "\n",
    "The library can analyze patterns in different musical styles."
   ]
  },
  {
   "cell_type": "code",
   "execution_count": null,
   "metadata": {},
   "outputs": [],
   "source": [
    "# Compare the same progression analyzed in different styles\n",
    "progression = [\"Dm7\", \"G7\", \"Cmaj7\", \"A7\"]\n",
    "\n",
    "styles = [\"classical\", \"jazz\", \"pop\"]\n",
    "\n",
    "for style in styles:\n",
    "    print(f\"\\n{'='*50}\")\n",
    "    print(f\"🎵 Analyzing in {style.upper()} style\")\n",
    "    print(f\"Progression: {' → '.join(progression)}\")\n",
    "    \n",
    "    # Analyze with specific style profile\n",
    "    result = await analyzer.analyze_with_patterns_async(progression, profile=style)\n",
    "    \n",
    "    print(f\"Roman numerals: {' → '.join(result.primary.roman_numerals)}\")\n",
    "    print(f\"Key: {result.primary.key_signature}\")\n",
    "    \n",
    "    # Show style-specific patterns\n",
    "    print(f\"Patterns detected in {style} style:\")\n",
    "    for pattern in result.primary.patterns[:3]:  # Top 3 patterns\n",
    "        if pattern.score > 0.2:\n",
    "            print(f\"  • {pattern.name} (score: {pattern.score:.2f})\")\n",
    "    \n",
    "    # Style-specific interpretation\n",
    "    interpretations = {\n",
    "        \"classical\": \"Focus on functional harmony and voice leading\",\n",
    "        \"jazz\": \"Extended chords and ii-V relationships emphasized\",\n",
    "        \"pop\": \"Simple functional relationships, common progressions\"\n",
    "    }\n",
    "    print(f\"Style focus: {interpretations[style]}\")"
   ]
  },
  {
   "cell_type": "markdown",
   "metadata": {},
   "source": [
    "## 🎯 Using Patterns for Composition\n",
    "\n",
    "Understanding patterns can help you compose more effectively."
   ]
  },
  {
   "cell_type": "code",
   "execution_count": null,
   "metadata": {},
   "outputs": [],
   "source": [
    "# Let's build a composition using detected patterns\n",
    "print(\"🎼 BUILDING A COMPOSITION WITH PATTERNS\")\n",
    "print(\"=\"*50)\n",
    "\n",
    "# Start with a basic progression\n",
    "verse_progression = [\"C\", \"Am\", \"F\", \"G\"]\n",
    "print(f\"\\n📝 Verse: {' → '.join(verse_progression)}\")\n",
    "\n",
    "result = await analyzer.analyze_with_patterns_async(verse_progression)\n",
    "print(f\"Roman numerals: {' → '.join(result.primary.roman_numerals)}\")\n",
    "print(f\"Detected patterns: {', '.join(p.name for p in result.primary.patterns[:2])}\")\n",
    "\n",
    "# Add a contrasting chorus\n",
    "chorus_progression = [\"F\", \"C\", \"G\", \"Am\"]\n",
    "print(f\"\\n🎵 Chorus: {' → '.join(chorus_progression)}\")\n",
    "\n",
    "result = await analyzer.analyze_with_patterns_async(chorus_progression)\n",
    "print(f\"Roman numerals: {' → '.join(result.primary.roman_numerals)}\")\n",
    "print(f\"Detected patterns: {', '.join(p.name for p in result.primary.patterns[:2])}\")\n",
    "\n",
    "# Add a bridge with different patterns\n",
    "bridge_progression = [\"Dm\", \"Am\", \"Bb\", \"F\"]\n",
    "print(f\"\\n🌉 Bridge: {' → '.join(bridge_progression)}\")\n",
    "\n",
    "result = await analyzer.analyze_with_patterns_async(bridge_progression)\n",
    "print(f\"Roman numerals: {' → '.join(result.primary.roman_numerals)}\")\n",
    "print(f\"Detected patterns: {', '.join(p.name for p in result.primary.patterns[:2])}\")\n",
    "\n",
    "print(\"\\n🎯 COMPOSITION ANALYSIS:\")\n",
    "print(\"• Verse: Stable, familiar progression (I-vi-IV-V)\")\n",
    "print(\"• Chorus: Same chords, different order - creates contrast\")\n",
    "print(\"• Bridge: Introduces new harmonic color (♭VII chord)\")\n",
    "print(\"\\nThis creates a balanced song structure with variety!\")"
   ]
  },
  {
   "cell_type": "markdown",
   "metadata": {},
   "source": [
    "## 🎓 Pattern Recognition Masterclass\n",
    "\n",
    "Test your pattern recognition skills!"
   ]
  },
  {
   "cell_type": "code",
   "execution_count": null,
   "metadata": {},
   "outputs": [],
   "source": "# Mystery progressions - can you identify the patterns?\nmystery_progressions = {\n    \"Mystery 1\": [\"C\", \"F\", \"Bb\", \"Eb\"],\n    \"Mystery 2\": [\"Am\", \"F\", \"C\", \"G\", \"Am\"],\n    \"Mystery 3\": [\"Cmaj7\", \"Am7\", \"Dm7\", \"G7\"],\n    \"Mystery 4\": [\"G\", \"D\", \"Em\", \"C\"],\n    \"Mystery 5\": [\"F#m\", \"D\", \"A\", \"E\"]\n}\n\nprint(\"🕵️ PATTERN RECOGNITION CHALLENGE\")\nprint(\"Can you guess what these famous patterns are?\")\nprint()\n\nfor name, progression in mystery_progressions.items():\n    print(f\"\\n🎵 {name}: {' → '.join(progression)}\")\n    \n    result = analyzer.analyze_with_patterns(progression)\n    summary = result.primary\n    \n    # Don't show the answer immediately - let people guess!\n    print(f\"Roman numerals: {' → '.join(summary.roman_numerals)}\")\n    print(f\"Key: {summary.key_signature}\")\n    \n    # Reveal the patterns with new format\n    if summary.patterns:\n        top_pattern = max(summary.patterns, key=lambda p: p.score)\n        span = f\"[{top_pattern.start}:{top_pattern.end})\"\n        print(f\"🎯 Main pattern: {top_pattern.name} {span} (confidence: {top_pattern.score:.2f})\")\n    \n    # Give musical context\n    contexts = {\n        \"Mystery 1\": \"Circle of fifths - each root descends a fifth\",\n        \"Mystery 2\": \"vi-IV-I-V - the 'Axis progression' used in thousands of songs\",\n        \"Mystery 3\": \"Jazz ii-V-I with 7th chords - the essence of jazz harmony\",\n        \"Mystery 4\": \"I-V-vi-IV - the 'millennial whoop' progression\",\n        \"Mystery 5\": \"Same pattern in F# major - shows how patterns transpose\"\n    }\n    print(f\"Context: {contexts[name]}\")\n\n# SECTION-AWARE PATTERN ANALYSIS EXAMPLE\nprint(\"\\n\\n\" + \"=\"*60)\nprint(\"🎵 SECTION-AWARE PATTERN ANALYSIS\")\nprint(\"Let's analyze a longer song with explicit sections:\")\n\n# Create a multi-section song\nbig_song_chords = [\"Am\", \"F\", \"C\", \"G\", \"Am\", \"F\", \"C\", \"G\",  # Verse A\n                   \"F\", \"G\", \"Am\", \"Am\", \"F\", \"G\", \"C\", \"C\"]   # Chorus B\n\n# Define sections manually\nsections = [\n    SectionDTO(id=\"A\", start=0, end=8, label=\"Verse\"),\n    SectionDTO(id=\"B\", start=8, end=16, label=\"Chorus\"),\n]\n\nresult = analyzer.analyze_with_patterns(big_song_chords, sections=sections)\nsummary = result.primary\n\nprint(f\"Song progression: {' → '.join(big_song_chords)}\")\nprint(f\"Key: {summary.key_signature}\")\n\nprint(\"\\nSections:\")\nfor s in summary.sections:\n    chords_in_section = big_song_chords[s.start:s.end]\n    print(f\"  {s.id} ({s.label}): [{s.start}:{s.end}) → {' → '.join(chords_in_section)}\")\n\nprint(f\"\\nTerminal cadences:\")\nfor m in summary.terminal_cadences:\n    print(f\"  • {m.name} in section {m.section} at [{m.start}:{m.end})\")\n\nprint(f\"\\nAll patterns with section assignments:\")\nfor m in summary.patterns:\n    span = f\"[{m.start}:{m.end})\"\n    cadence_info = f\" — {m.cadence_role} cadence\" if m.cadence_role else \"\"\n    sec = f\" (sec {m.section})\" if m.section else \"\"\n    print(f\"  • {m.name} {span}{sec}{cadence_info}  score={m.score:.2f}\")\n\nif summary.final_cadence:\n    m = summary.final_cadence\n    print(f\"\\n🏁 Final cadence: {m.name} at [{m.start}:{m.end}) (score={m.score:.2f})\")"
  },
  {
   "cell_type": "markdown",
   "metadata": {},
   "source": [
    "## 🎯 Key Takeaways\n",
    "\n",
    "Congratulations! You now understand musical pattern recognition:\n",
    "\n",
    "### Musical Concepts\n",
    "1. **Cadences** create closure and structure in music\n",
    "2. **Sequences** build momentum through repetition at different pitch levels\n",
    "3. **Style-specific patterns** define different musical genres\n",
    "4. **Pattern combinations** create complex, interesting progressions\n",
    "\n",
    "### Library Features\n",
    "1. **Automatic pattern detection** identifies musical idioms\n",
    "2. **Multiple analysis modes** (best cover vs. all patterns)\n",
    "3. **Style-specific analysis** adapts to different musical contexts\n",
    "4. **Evidence and scoring** help you trust the analysis\n",
    "\n",
    "### Practical Applications\n",
    "1. **Composition**: Use patterns as building blocks\n",
    "2. **Analysis**: Understand why progressions work\n",
    "3. **Learning**: Study patterns in your favorite songs\n",
    "4. **Teaching**: Explain musical structure to students\n",
    "\n",
    "## 🚀 Next Steps\n",
    "\n",
    "Continue exploring with:\n",
    "- **03_modal_analysis.ipynb** - Dive deep into modal harmony\n",
    "- **04_advanced_progressions.ipynb** - Analyze complex classical and jazz pieces\n",
    "- **05_character_analysis.ipynb** - Explore emotional and character analysis\n",
    "\n",
    "Keep discovering the patterns that make music magical! 🎵"
   ]
  }
 ],
 "metadata": {
  "kernelspec": {
   "display_name": "Python 3",
   "language": "python",
   "name": "python3"
  },
  "language_info": {
   "codemirror_mode": {
    "name": "ipython",
    "version": 3
   },
   "file_extension": ".py",
   "mimetype": "text/x-python",
   "name": "python",
   "nbconvert_exporter": "python",
   "pygments_lexer": "ipython3",
   "version": "3.11.0"
  }
 },
 "nbformat": 4,
 "nbformat_minor": 4
}
