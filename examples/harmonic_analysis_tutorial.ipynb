{
 "cells": [
  {
   "cell_type": "markdown",
   "metadata": {},
   "source": "# Harmonic Analysis Library Tutorial 🎵\n\nThis comprehensive tutorial demonstrates the **new layered API** and how the harmonic analysis library works, with detailed explanations of the analysis process and practical examples for musicians.\n\n## ✨ What's New in v0.2\n\n**Progressive Disclosure API Design** - The library now has a clean, discoverable structure:\n- **Main API**: 20 essential functions for 90% of use cases\n- **Specialized Modules**: Advanced features organized by domain\n- **Power User Access**: Direct engine access for researchers\n\n## What You'll Learn\n\n1. **New API structure** - Main API vs specialized modules\n2. **How the library analyzes music** - The three-stage analysis process\n3. **Understanding confidence scores** - What they mean for your music\n4. **🆕 Bidirectional suggestion system** - Getting optimal analysis results\n5. **Multiple interpretations** - When music is ambiguous\n6. **Specialized modules** - MIDI, chromatic, scales, theory, algorithms\n7. **Practical applications** - Jazz, pop, classical, and modal music\n\n## Setup"
  },
  {
   "cell_type": "code",
   "metadata": {
    "ExecuteTime": {
     "end_time": "2025-08-28T19:11:12.960676Z",
     "start_time": "2025-08-28T19:11:12.940691Z"
    }
   },
   "source": "# NEW API STRUCTURE DEMONSTRATION\nprint(\"🚀 NEW LAYERED API STRUCTURE\")\nprint(\"=\" * 50)\n\n# MAIN API - Essential functions for 90% of users\nfrom harmonic_analysis import (\n    analyze_progression_multiple,  # Multiple interpretations (recommended)\n    analyze_scale_melody,         # Scale and melody analysis\n    AnalysisOptions,             # Configuration\n    get_interval_name           # Utility functions\n)\n\nprint(\"✅ Main API imported - covers 90% of use cases\")\nprint(\"   🎼 analyze_progression_multiple: Main chord progression analysis\")\nprint(\"   🎵 analyze_scale_melody: Scale and melody analysis\")\nprint(\"   ⚙️  AnalysisOptions: Configuration options\")\nprint(\"   📐 get_interval_name: Music theory utilities\")\n\nprint(\"\")\nprint(\"🎼 Ready to explore the harmonic analysis library!\")\nprint(\"📚 For specialized modules (MIDI, chromatic, theory), see the advanced examples later\")",
   "outputs": [
    {
     "name": "stdout",
     "output_type": "stream",
     "text": [
      "🚀 NEW LAYERED API STRUCTURE\n",
      "==================================================\n",
      "✅ Main API imported - covers 90% of use cases\n",
      "   🎼 analyze_progression_multiple: Main chord progression analysis\n",
      "   🎵 analyze_scale_melody: Scale and melody analysis\n",
      "   ⚙️  AnalysisOptions: Configuration options\n",
      "   📐 get_interval_name: Music theory utilities\n",
      "\n",
      "🎼 Ready to explore the harmonic analysis library!\n",
      "📚 For specialized modules (MIDI, chromatic, theory), see the advanced examples later\n"
     ]
    }
   ],
   "execution_count": 1
  },
  {
   "cell_type": "markdown",
   "metadata": {},
   "source": [
    "## Part 1: How the Library Analyzes Chord Progressions\n",
    "\n",
    "The library uses a sophisticated **three-stage analysis process**:\n",
    "\n",
    "### Stage 1: Parallel Analysis 🔍\n",
    "Three specialized \"musicians\" analyze your progression simultaneously:\n",
    "- **Functional Analyst**: Looks for Roman numerals and classical harmony patterns\n",
    "- **Modal Analyst**: Searches for modal characteristics and color tones  \n",
    "- **Chromatic Analyst**: Identifies advanced techniques like secondary dominants\n",
    "\n",
    "### Stage 2: Evidence Collection 📊\n",
    "Each analyst gathers evidence:\n",
    "- **Cadential**: Strong endings like V→I (weighted 40%)\n",
    "- **Structural**: Tonic framing, chord relationships (weighted 25%)\n",
    "- **Intervallic**: Characteristic scale degrees (weighted 20%)\n",
    "- **Harmonic**: Clear progressions, chord qualities (weighted 15%)\n",
    "\n",
    "### Stage 3: Confidence Scoring 🎯\n",
    "Combines all evidence into confidence scores (0-100%)\n",
    "\n",
    "Let's see this in action:"
   ]
  },
  {
   "cell_type": "code",
   "metadata": {
    "ExecuteTime": {
     "end_time": "2025-08-28T19:11:12.969238Z",
     "start_time": "2025-08-28T19:11:12.965725Z"
    }
   },
   "source": "# Classic I-vi-IV-V progression - should get high confidence\nresult = await analyze_progression_multiple(['C', 'Am', 'F', 'G'])\n\nprint(\"🎼 ANALYZING: C - Am - F - G\")\nprint(\"=\" * 50)\n\n# Primary analysis\nprint(f\"🎯 Primary Analysis:\")\nprint(f\"   Analysis: {result.primary_analysis.analysis}\")\nprint(f\"   Type: {result.primary_analysis.type.value}\")\nprint(f\"   Confidence: {result.primary_analysis.confidence:.0%}\")\nprint(f\"   Key: {result.primary_analysis.key_signature}\")\nprint(f\"   Roman numerals: {result.primary_analysis.roman_numerals}\")\n\n# Evidence collected\nprint(f\"\\n🔍 Evidence Collected ({len(result.primary_analysis.evidence)} pieces):\")\nfor evidence in result.primary_analysis.evidence:\n    print(f\"   • {evidence.type.value.title()}: {evidence.description} (strength: {evidence.strength:.2f})\")\n\n# Alternative interpretations\nif result.alternative_analyses:\n    print(f\"\\n🤔 Alternative Interpretations ({len(result.alternative_analyses)}):\")\n    for alt in result.alternative_analyses:\n        print(f\"   • {alt.analysis} (confidence: {alt.confidence:.0%})\")\nelse:\n    print(f\"\\n✅ No alternatives - this interpretation is very clear!\")\n\n# Suggestions \nif result.suggestions and result.suggestions.parent_key_suggestions:\n    print(f\"\\n💡 Suggestions: {len(result.suggestions.parent_key_suggestions)} found\")\n    for suggestion in result.suggestions.parent_key_suggestions:\n        print(f\"   • Try '{suggestion.suggested_key}': {suggestion.reason}\")\nelse:\n    print(f\"\\n✅ No suggestions needed - analysis is already optimal!\")\n\nprint(f\"\\n📈 Why this got {result.primary_analysis.confidence:.0%} confidence:\")\nprint(f\"   • Clear functional progression with strong tonal center\")\nprint(f\"   • Classic I-vi-IV-V pattern is well-established in music theory\")\nprint(f\"   • Multiple pieces of evidence support this interpretation\")",
   "outputs": [
    {
     "name": "stdout",
     "output_type": "stream",
     "text": [
      "🎼 ANALYZING: C - Am - F - G\n",
      "==================================================\n",
      "🎯 Primary Analysis:\n",
      "   Analysis: Functional progression: I - vi - IV - V\n",
      "   Type: functional\n",
      "   Confidence: 86%\n",
      "   Key: C major\n",
      "   Roman numerals: ['I', 'vi', 'IV', 'V']\n",
      "\n",
      "🔍 Evidence Collected (2 pieces):\n",
      "   • Harmonic: Clear functional harmonic progression (strength: 0.45)\n",
      "   • Structural: Classic functional pattern: I-vi-IV-V (strength: 0.95)\n",
      "\n",
      "✅ No alternatives - this interpretation is very clear!\n",
      "\n",
      "✅ No suggestions needed - analysis is already optimal!\n",
      "\n",
      "📈 Why this got 86% confidence:\n",
      "   • Clear functional progression with strong tonal center\n",
      "   • Classic I-vi-IV-V pattern is well-established in music theory\n",
      "   • Multiple pieces of evidence support this interpretation\n"
     ]
    }
   ],
   "execution_count": 2
  },
  {
   "cell_type": "markdown",
   "metadata": {},
   "source": [
    "## 🆕 Part 2: The Bidirectional Suggestion System\n",
    "\n",
    "**NEW FEATURE**: The library now intelligently suggests when to **add**, **remove**, or **change** parent keys to optimize analysis results.\n",
    "\n",
    "### How It Works\n",
    "The system analyzes your progression **with and without** key context, then uses algorithmic scoring:\n",
    "- **Roman numeral improvement** (30% weight)\n",
    "- **Confidence improvement** (20% weight)  \n",
    "- **Analysis type improvement** (20% weight)\n",
    "- **Pattern clarity improvement** (30% weight)\n",
    "\n",
    "### Type 1: \"Add Key\" Suggestions\n",
    "When no key is provided but one would unlock better analysis:"
   ]
  },
  {
   "cell_type": "code",
   "metadata": {
    "ExecuteTime": {
     "end_time": "2025-08-28T19:11:12.984635Z",
     "start_time": "2025-08-28T19:11:12.979417Z"
    }
   },
   "source": "# Classic ii-V-I progression without key context\nprogression = ['Dm7', 'G7', 'Cmaj7']\nresult = await analyze_progression_multiple(progression)\n\nprint(\"🎼 ANALYZING: Dm7 - G7 - Cmaj7 (classic ii-V-I)\")\nprint(\"=\" * 60)\n\nprint(\"📊 STEP 1: Initial Analysis (no parent key provided)\")\nprint(f\"   Analysis: {result.primary_analysis.analysis}\")\nprint(f\"   Type: {result.primary_analysis.type.value}\")\nprint(f\"   Roman numerals: {result.primary_analysis.roman_numerals or 'None available'}\")\nprint(f\"   Confidence: {result.primary_analysis.confidence:.0%}\")\nprint(f\"   Key: {result.primary_analysis.key_signature or 'None detected'}\")\n\nprint(f\"\\n🧠 STEP 2: Library's Internal Process\")\nprint(f\"   • Functional analyzer: Tries to find Roman numerals -> Limited success\")\nprint(f\"   • Modal analyzer: Sees Dm as potential tonic -> Higher confidence\")\nprint(f\"   • Result: Modal analysis becomes primary\")\n\nprint(f\"\\n💡 STEP 3: Checking for 'Add Key' Suggestions\")\nif result.suggestions and result.suggestions.parent_key_suggestions:\n    suggestion = result.suggestions.parent_key_suggestions[0]\n    print(f\"✅ SUGGESTION FOUND!\")\n    print(f\"   Suggested key: {suggestion.suggested_key}\")\n    print(f\"   Reason: {suggestion.reason}\")\n    print(f\"   Benefit: {suggestion.potential_improvement}\")\n    print(f\"   Confidence in suggestion: {suggestion.confidence:.0%}\")\n    print(f\"   Detected pattern: {suggestion.detected_pattern or 'Pattern analysis'}\")\n\n    print(f\"\\n🚀 STEP 4: Applying the Suggestion\")\n    improved_result = await analyze_progression_multiple(\n        progression,\n        AnalysisOptions(parent_key=suggestion.suggested_key)\n    )\n\n    print(f\"   Analysis: {improved_result.primary_analysis.analysis}\")\n    print(f\"   Type: {improved_result.primary_analysis.type.value}\")\n    print(f\"   Roman numerals: {improved_result.primary_analysis.roman_numerals}\")\n    print(f\"   Confidence: {improved_result.primary_analysis.confidence:.0%}\")\n\n    print(f\"\\n✨ COMPARISON - What Improved:\")\n    print(f\"   Before: {result.primary_analysis.type.value} analysis, no Roman numerals\")\n    print(f\"   After:  {improved_result.primary_analysis.type.value} analysis, full Roman numeral analysis\")\n    print(f\"   Benefit: Now shows classic ii7-V7-I7 jazz progression!\")\n\nelse:\n    print(f\"❌ No 'add key' suggestions found (unexpected for ii-V-I progression)\")\n\nprint(f\"\\n🎯 Teaching Point:\")\nprint(f\"   This demonstrates how key context unlocks Roman numeral analysis\")\nprint(f\"   The same chords can be modal (D Dorian) OR functional (ii-V-I in C)\")\nprint(f\"   The suggestion system guides you to the most musically useful interpretation\")",
   "outputs": [
    {
     "name": "stdout",
     "output_type": "stream",
     "text": [
      "🎼 ANALYZING: Dm7 - G7 - Cmaj7 (classic ii-V-I)\n",
      "============================================================\n",
      "📊 STEP 1: Initial Analysis (no parent key provided)\n",
      "   Analysis: D Dorian modal progression\n",
      "   Type: modal\n",
      "   Roman numerals: None available\n",
      "   Confidence: 69%\n",
      "   Key: D major\n",
      "\n",
      "🧠 STEP 2: Library's Internal Process\n",
      "   • Functional analyzer: Tries to find Roman numerals -> Limited success\n",
      "   • Modal analyzer: Sees Dm as potential tonic -> Higher confidence\n",
      "   • Result: Modal analysis becomes primary\n",
      "\n",
      "💡 STEP 3: Checking for 'Add Key' Suggestions\n",
      "✅ SUGGESTION FOUND!\n",
      "   Suggested key: C major\n",
      "   Reason: Contains ii-V-I progression\n",
      "   Benefit: Provides Roman numeral analysis and clear harmonic function\n",
      "   Confidence in suggestion: 78%\n",
      "   Detected pattern: ii-V-I progression, authentic cadence\n",
      "\n",
      "🚀 STEP 4: Applying the Suggestion\n",
      "   Analysis: Functional progression: ii7 - V7 - I7. Contains 1 chromatic element(s)\n",
      "   Type: functional\n",
      "   Roman numerals: ['ii7', 'V7', 'I7']\n",
      "   Confidence: 41%\n",
      "\n",
      "✨ COMPARISON - What Improved:\n",
      "   Before: modal analysis, no Roman numerals\n",
      "   After:  functional analysis, full Roman numeral analysis\n",
      "   Benefit: Now shows classic ii7-V7-I7 jazz progression!\n",
      "\n",
      "🎯 Teaching Point:\n",
      "   This demonstrates how key context unlocks Roman numeral analysis\n",
      "   The same chords can be modal (D Dorian) OR functional (ii-V-I in C)\n",
      "   The suggestion system guides you to the most musically useful interpretation\n"
     ]
    }
   ],
   "execution_count": 3
  },
  {
   "cell_type": "markdown",
   "metadata": {},
   "source": [
    "### Type 2: \"Remove Key\" Suggestions\n",
    "When a provided key actually hurts the analysis:"
   ]
  },
  {
   "cell_type": "code",
   "metadata": {
    "ExecuteTime": {
     "end_time": "2025-08-28T19:11:12.995911Z",
     "start_time": "2025-08-28T19:11:12.991274Z"
    }
   },
   "source": "# Jazz progression with WRONG parent key\njazz_progression = ['A', 'E/G#', 'B7sus4/F#', 'E', 'A/C#', 'G#m/B', 'F#m/A', 'E/G#']\n\nprint(\"🎼 ANALYZING: Jazz progression with WRONG key\")\nprint(f\"Progression: {' - '.join(jazz_progression)}\")\nprint(\"=\" * 60)\n\nprint(\"📊 STEP 1: Analysis with Wrong Key (C major)\")\nwrong_key_result = await analyze_progression_multiple(\n    jazz_progression,\n    AnalysisOptions(parent_key='C major')\n)\n\nprint(f\"   Analysis: {wrong_key_result.primary_analysis.analysis}\")\nprint(f\"   Type: {wrong_key_result.primary_analysis.type.value}\")\nprint(f\"   Roman numerals: {wrong_key_result.primary_analysis.roman_numerals or 'None'}\")\nprint(f\"   Confidence: {wrong_key_result.primary_analysis.confidence:.0%}\")\n\nprint(f\"\\n🧠 STEP 2: Library's Internal Process\")\nprint(f\"   • Wrong key forces the progression into modal analysis\")\nprint(f\"   • Functional analyzer can't make sense of complex jazz chords in C major\")\nprint(f\"   • Modal analyzer defaults to E Dorian interpretation\")\n\nprint(f\"\\n💡 STEP 3: Checking for 'Remove Key' Suggestions\")\nif wrong_key_result.suggestions and wrong_key_result.suggestions.unnecessary_key_suggestions:\n    suggestion = wrong_key_result.suggestions.unnecessary_key_suggestions[0]\n    print(f\"⚠️  REMOVE KEY SUGGESTION FOUND!\")\n    print(\n        f\"   Remove key: '{wrong_key_result.input_options.parent_key if wrong_key_result.input_options else 'C major'}'\")\n    print(f\"   Reason: {suggestion.reason}\")\n    print(f\"   Problem: Key is forcing suboptimal analysis\")\n\n    print(f\"\\n🚀 STEP 4: Comparing Without the Problematic Key\")\n    no_key_result = await analyze_progression_multiple(jazz_progression)\n\n    print(f\"   Analysis: {no_key_result.primary_analysis.analysis[:60]}...\")\n    print(f\"   Type: {no_key_result.primary_analysis.type.value}\")\n    print(f\"   Roman numerals: {len(no_key_result.primary_analysis.roman_numerals)} available\")\n    print(f\"   Confidence: {no_key_result.primary_analysis.confidence:.0%}\")\n\n    print(f\"\\n✨ COMPARISON - What Improved:\")\n    print(\n        f\"   With wrong key: {wrong_key_result.primary_analysis.confidence:.0%} confidence, {wrong_key_result.primary_analysis.type.value}, no Roman numerals\")\n    print(\n        f\"   Without key:   {no_key_result.primary_analysis.confidence:.0%} confidence, {no_key_result.primary_analysis.type.value}, {len(no_key_result.primary_analysis.roman_numerals)} Roman numerals\")\n    print(\n        f\"   Improvement: +{no_key_result.primary_analysis.confidence - wrong_key_result.primary_analysis.confidence:.0%}% confidence, functional analysis unlocked!\")\n\nelse:\n    print(f\"✅ No 'remove key' suggestions (unexpected - C major should be wrong for this progression)\")\n\nprint(f\"\\n🎯 Teaching Point:\")\nprint(f\"   Wrong keys can actually make analysis WORSE\")\nprint(f\"   The bidirectional system detects this and suggests removal\")\nprint(f\"   Sometimes no key context is better than wrong key context\")",
   "outputs": [
    {
     "name": "stdout",
     "output_type": "stream",
     "text": [
      "🎼 ANALYZING: Jazz progression with WRONG key\n",
      "Progression: A - E/G# - B7sus4/F# - E - A/C# - G#m/B - F#m/A - E/G#\n",
      "============================================================\n",
      "📊 STEP 1: Analysis with Wrong Key (C major)\n",
      "   Analysis: E Dorian modal progression\n",
      "   Type: modal\n",
      "   Roman numerals: None\n",
      "   Confidence: 74%\n",
      "\n",
      "🧠 STEP 2: Library's Internal Process\n",
      "   • Wrong key forces the progression into modal analysis\n",
      "   • Functional analyzer can't make sense of complex jazz chords in C major\n",
      "   • Modal analyzer defaults to E Dorian interpretation\n",
      "\n",
      "💡 STEP 3: Checking for 'Remove Key' Suggestions\n",
      "✅ No 'remove key' suggestions (unexpected - C major should be wrong for this progression)\n",
      "\n",
      "🎯 Teaching Point:\n",
      "   Wrong keys can actually make analysis WORSE\n",
      "   The bidirectional system detects this and suggests removal\n",
      "   Sometimes no key context is better than wrong key context\n"
     ]
    }
   ],
   "execution_count": 4
  },
  {
   "cell_type": "markdown",
   "metadata": {},
   "source": [
    "### Complete Suggestion Workflow\n",
    "Here's the recommended workflow for using suggestions:"
   ]
  },
  {
   "cell_type": "code",
   "metadata": {
    "ExecuteTime": {
     "end_time": "2025-08-28T19:11:13.005209Z",
     "start_time": "2025-08-28T19:11:12.999694Z"
    }
   },
   "source": "async def analyze_with_suggestions_workflow(progression):\n    \"\"\"Demonstrates the complete suggestion workflow\"\"\"\n    print(f\"🎼 COMPLETE WORKFLOW: {' - '.join(progression)}\")\n    print(\"=\" * 60)\n\n    # Step 1: Initial analysis\n    print(\"📊 STEP 1: Initial Analysis\")\n    result = await analyze_progression_multiple(progression)\n    print(f\"   Analysis: {result.primary_analysis.analysis}\")\n    print(f\"   Confidence: {result.primary_analysis.confidence:.0%}\")\n    print(f\"   Roman numerals: {len(result.primary_analysis.roman_numerals)} available\")\n\n    # Step 2: Check suggestions\n    print(f\"\\n💡 STEP 2: Checking for Suggestions\")\n    has_suggestions = False\n\n    if result.suggestions:\n        if result.suggestions.parent_key_suggestions:\n            has_suggestions = True\n            print(f\"   ✅ ADD KEY suggestions: {len(result.suggestions.parent_key_suggestions)}\")\n            for suggestion in result.suggestions.parent_key_suggestions[:2]:\n                print(f\"      → Try '{suggestion.suggested_key}' ({suggestion.confidence:.0%}): {suggestion.reason}\")\n\n        if result.suggestions.unnecessary_key_suggestions:\n            has_suggestions = True\n            print(f\"   ⚠️  REMOVE KEY suggestions: {len(result.suggestions.unnecessary_key_suggestions)}\")\n            for suggestion in result.suggestions.unnecessary_key_suggestions:\n                print(f\"      → Remove key: {suggestion.reason}\")\n\n        if result.suggestions.key_change_suggestions:\n            has_suggestions = True\n            print(f\"   🔄 CHANGE KEY suggestions: {len(result.suggestions.key_change_suggestions)}\")\n            for suggestion in result.suggestions.key_change_suggestions[:2]:\n                print(\n                    f\"      → Change to '{suggestion.suggested_key}' ({suggestion.confidence:.0%}): {suggestion.reason}\")\n\n    if not has_suggestions:\n        print(f\"   ✅ No suggestions needed - analysis is already optimal!\")\n        print(f\"   ✨ This means the current interpretation is the best available\")\n\n    return result\n\n\n# Test with different progression types\ntest_progressions = [\n    ['Em7', 'A7', 'Dmaj7'],  # Should suggest D major (ii-V-I pattern)\n    ['C', 'F', 'G', 'C'],  # Should need no suggestions (clear I-IV-V-I)\n    ['Am', 'F', 'C', 'G'],  # Should need no suggestions (already analyzed well)\n]\n\nfor progression in test_progressions:\n    await analyze_with_suggestions_workflow(progression)\n    print(\"\\n\")",
   "outputs": [
    {
     "name": "stdout",
     "output_type": "stream",
     "text": [
      "🎼 COMPLETE WORKFLOW: Em7 - A7 - Dmaj7\n",
      "============================================================\n",
      "📊 STEP 1: Initial Analysis\n",
      "   Analysis: E Dorian modal progression\n",
      "   Confidence: 69%\n",
      "   Roman numerals: 0 available\n",
      "\n",
      "💡 STEP 2: Checking for Suggestions\n",
      "   ✅ ADD KEY suggestions: 1\n",
      "      → Try 'D major' (78%): Contains ii-V-I progression\n",
      "\n",
      "\n",
      "🎼 COMPLETE WORKFLOW: C - F - G - C\n",
      "============================================================\n",
      "📊 STEP 1: Initial Analysis\n",
      "   Analysis: Functional progression: I - IV - V - I (authentic cadence)\n",
      "   Confidence: 90%\n",
      "   Roman numerals: 4 available\n",
      "\n",
      "💡 STEP 2: Checking for Suggestions\n",
      "   ✅ No suggestions needed - analysis is already optimal!\n",
      "   ✨ This means the current interpretation is the best available\n",
      "\n",
      "\n",
      "🎼 COMPLETE WORKFLOW: Am - F - C - G\n",
      "============================================================\n",
      "📊 STEP 1: Initial Analysis\n",
      "   Analysis: A Aeolian modal progression\n",
      "   Confidence: 69%\n",
      "   Roman numerals: 0 available\n",
      "\n",
      "💡 STEP 2: Checking for Suggestions\n",
      "   ✅ No suggestions needed - analysis is already optimal!\n",
      "   ✨ This means the current interpretation is the best available\n",
      "\n",
      "\n"
     ]
    }
   ],
   "execution_count": 5
  },
  {
   "cell_type": "markdown",
   "metadata": {},
   "source": [
    "## Part 3: Understanding Analysis Types\n",
    "\n",
    "The library produces three types of analysis. Let's understand when each is used:"
   ]
  },
  {
   "cell_type": "code",
   "metadata": {
    "ExecuteTime": {
     "end_time": "2025-08-28T19:11:13.018616Z",
     "start_time": "2025-08-28T19:11:13.013542Z"
    }
   },
   "source": "# Examples of each analysis type\nexamples = [\n    (['C', 'F', 'G', 'C'], \"Functional: Clear tonal harmony\"),\n    (['Dm', 'G', 'Dm', 'C'], \"Modal: D Dorian characteristics\"),\n    (['C', 'A7', 'Dm', 'G7', 'C'], \"Chromatic: Secondary dominant A7→Dm\")\n]\n\nprint(\"🎯 ANALYSIS TYPE EXAMPLES\")\nprint(\"=\" * 50)\n\nfor progression, description in examples:\n    result = await analyze_progression_multiple(progression)\n\n    print(f\"\\n🎼 {' - '.join(progression)}\")\n    print(f\"   Expected: {description}\")\n    print(f\"   Actual: {result.primary_analysis.type.value.title()} - {result.primary_analysis.analysis}\")\n    print(f\"   Confidence: {result.primary_analysis.confidence:.0%}\")\n\n    # Show what makes this type of analysis\n    if result.primary_analysis.type.value == 'functional':\n        print(f\"   🔍 Functional indicators: Roman numerals, cadences, tonal relationships\")\n        print(f\"   📊 Roman numerals: {result.primary_analysis.roman_numerals}\")\n    elif result.primary_analysis.type.value == 'modal':\n        print(f\"   🔍 Modal indicators: Characteristic tones, modal patterns\")\n        # Modal analysis may not have a mode attribute in all cases\n        if hasattr(result.primary_analysis, 'mode') and result.primary_analysis.mode:\n            print(f\"   🎨 Mode: {result.primary_analysis.mode}\")\n        if hasattr(result.primary_analysis, 'modal_characteristics') and result.primary_analysis.modal_characteristics:\n            print(f\"   ✨ Characteristics: {', '.join(result.primary_analysis.modal_characteristics[:2])}\")\n    elif result.primary_analysis.type.value == 'chromatic':\n        print(f\"   🔍 Chromatic indicators: Secondary dominants, borrowed chords\")\n        if hasattr(result.primary_analysis, 'secondary_dominants') and result.primary_analysis.secondary_dominants:\n            print(f\"   🎪 Secondary dominants: {len(result.primary_analysis.secondary_dominants)} found\")\n\n    # Show evidence\n    strongest_evidence = max(result.primary_analysis.evidence, key=lambda e: e.strength)\n    print(f\"   💪 Strongest evidence: {strongest_evidence.description} (strength: {strongest_evidence.strength:.2f})\")",
   "outputs": [
    {
     "name": "stdout",
     "output_type": "stream",
     "text": [
      "🎯 ANALYSIS TYPE EXAMPLES\n",
      "==================================================\n",
      "\n",
      "🎼 C - F - G - C\n",
      "   Expected: Functional: Clear tonal harmony\n",
      "   Actual: Functional - Functional progression: I - IV - V - I (authentic cadence)\n",
      "   Confidence: 90%\n",
      "   🔍 Functional indicators: Roman numerals, cadences, tonal relationships\n",
      "   📊 Roman numerals: ['I', 'IV', 'V', 'I']\n",
      "   💪 Strongest evidence: Classic functional pattern: V-I (strength: 0.95)\n",
      "\n",
      "🎼 Dm - G - Dm - C\n",
      "   Expected: Modal: D Dorian characteristics\n",
      "   Actual: Modal - D Dorian modal progression\n",
      "   Confidence: 69%\n",
      "   🔍 Modal indicators: Characteristic tones, modal patterns\n",
      "   🎨 Mode: D Dorian\n",
      "   ✨ Characteristics: Natural 6th in minor context, Modal brightness\n",
      "   💪 Strongest evidence: Contains bVII chord (modal characteristic) (strength: 0.70)\n",
      "\n",
      "🎼 C - A7 - Dm - G7 - C\n",
      "   Expected: Chromatic: Secondary dominant A7→Dm\n",
      "   Actual: Functional - Functional progression: I - V7/ii - ii - V7 - I. Contains 2 chromatic element(s)\n",
      "   Confidence: 79%\n",
      "   🔍 Functional indicators: Roman numerals, cadences, tonal relationships\n",
      "   📊 Roman numerals: ['I', 'V7/ii', 'ii', 'V7', 'I']\n",
      "   💪 Strongest evidence: Classic functional pattern: V-I (strength: 0.95)\n"
     ]
    }
   ],
   "execution_count": 6
  },
  {
   "cell_type": "markdown",
   "metadata": {},
   "source": [
    "## Part 4: Scale vs Melody Analysis\n",
    "\n",
    "Understanding when you get a `suggested_tonic` and when you don't:"
   ]
  },
  {
   "cell_type": "code",
   "metadata": {
    "ExecuteTime": {
     "end_time": "2025-08-28T19:11:13.030669Z",
     "start_time": "2025-08-28T19:11:13.026698Z"
    }
   },
   "source": [
    "# Same notes, different contexts\n",
    "notes = ['D', 'E', 'F', 'G', 'A', 'B', 'C']\n",
    "\n",
    "print(\"🎼 SCALE vs MELODY ANALYSIS\")\n",
    "print(f\"Notes: {' - '.join(notes)}\")\n",
    "print(\"=\" * 50)\n",
    "\n",
    "# Analyze as SCALE (unordered collection)\n",
    "print(\"📚 SCALE ANALYSIS (notes as collection):\")\n",
    "scale_result = analyze_scale_melody(notes, melody=False)  # Scale analysis\n",
    "print(f\"   What it tells you: What scales contain these notes\")\n",
    "print(f\"   Parent scales: {scale_result.parent_scales}\")\n",
    "print(f\"   Modal possibilities: {list(scale_result.modal_labels.values())[:4]}...\")\n",
    "print(f\"   Suggested tonic: {scale_result.suggested_tonic or 'None (as expected)'}\")\n",
    "print(f\"   📝 Note: No tonic suggested because notes are unordered\")\n",
    "\n",
    "# Analyze as MELODY (ordered sequence with emphasis)\n",
    "print(f\"\\n🎵 MELODY ANALYSIS (notes as sequence):\")\n",
    "melody_result = analyze_scale_melody(notes, melody=True)  # Melody analysis\n",
    "print(f\"   What it tells you: What note sounds like 'home' + scale info\")\n",
    "print(f\"   Parent scales: {melody_result.parent_scales}\")\n",
    "print(f\"   Suggested tonic: {melody_result.suggested_tonic}\")\n",
    "print(f\"   Tonic confidence: {melody_result.confidence:.0%}\")\n",
    "if melody_result.suggested_tonic:\n",
    "    print(f\"   Creates mode: {melody_result.modal_labels.get(melody_result.suggested_tonic)}\")\n",
    "print(f\"   📝 Note: Tonic suggested based on melodic analysis\")\n",
    "\n",
    "# More melodic example\n",
    "print(f\"\\n🎼 STRONG MELODIC EXAMPLE:\")\n",
    "strong_melody = ['C', 'D', 'E', 'G', 'G', 'E', 'D', 'C', 'C']\n",
    "print(f\"Melody: {' '.join(strong_melody)}\")\n",
    "strong_result = analyze_scale_melody(strong_melody, melody=True)  # Melody analysis\n",
    "print(f\"   Suggested tonic: {strong_result.suggested_tonic}\")\n",
    "print(f\"   Confidence: {strong_result.confidence:.0%}\")\n",
    "print(f\"   Why: C appears {strong_melody.count('C')} times and frames the melody\")\n",
    "print(f\"   Creates: {strong_result.modal_labels.get(strong_result.suggested_tonic)}\")\n",
    "\n",
    "print(f\"\\n🎯 Teaching Point:\")\n",
    "print(f\"   📝 Note: Use analyze_scale_melody(notes, melody=False) for: 'What scales contain these notes?'\")\n",
    "print(f\"   • Use analyze_scale_melody(notes, melody=True) for: 'What note is the tonic of this melodic line?'\")\n",
    "print(f\"   • Melodies provide tonic detection, scales provide theoretical possibilities\")"
   ],
   "outputs": [
    {
     "name": "stdout",
     "output_type": "stream",
     "text": [
      "🎼 SCALE vs MELODY ANALYSIS\n",
      "Notes: D - E - F - G - A - B - C\n",
      "==================================================\n",
      "📚 SCALE ANALYSIS (notes as collection):\n",
      "   What it tells you: What scales contain these notes\n",
      "   Parent scales: ['A minor', 'C major']\n",
      "   Modal possibilities: ['B Locrian', 'C Ionian', 'F Lydian', 'E Phrygian']...\n",
      "   Suggested tonic: None (as expected)\n",
      "   📝 Note: No tonic suggested because notes are unordered\n",
      "\n",
      "🎵 MELODY ANALYSIS (notes as sequence):\n",
      "   What it tells you: What note sounds like 'home' + scale info\n",
      "   Parent scales: ['A minor', 'C major']\n",
      "   Suggested tonic: C\n",
      "   Tonic confidence: 62%\n",
      "   Creates mode: C Ionian\n",
      "   📝 Note: Tonic suggested based on melodic analysis\n",
      "\n",
      "🎼 STRONG MELODIC EXAMPLE:\n",
      "Melody: C D E G G E D C C\n",
      "   Suggested tonic: C\n",
      "   Confidence: 66%\n",
      "   Why: C appears 3 times and frames the melody\n",
      "   Creates: C Ionian\n",
      "\n",
      "🎯 Teaching Point:\n",
      "   📝 Note: Use analyze_scale_melody(notes, melody=False) for: 'What scales contain these notes?'\n",
      "   • Use analyze_scale_melody(notes, melody=True) for: 'What note is the tonic of this melodic line?'\n",
      "   • Melodies provide tonic detection, scales provide theoretical possibilities\n"
     ]
    }
   ],
   "execution_count": 7
  },
  {
   "cell_type": "markdown",
   "metadata": {},
   "source": [
    "## Part 5: Multiple Interpretations and Confidence Levels\n",
    "\n",
    "Real music is often ambiguous. The library handles this gracefully:"
   ]
  },
  {
   "cell_type": "code",
   "metadata": {
    "ExecuteTime": {
     "end_time": "2025-08-28T19:11:13.039516Z",
     "start_time": "2025-08-28T19:11:13.034925Z"
    }
   },
   "source": "# Test progressions with different confidence levels\nconfidence_examples = [\n    (['C', 'F', 'G', 'C'], \"High confidence: Textbook I-IV-V-I\"),\n    (['Am', 'F', 'C', 'G'], \"Medium confidence: Could be C major or A minor\"),\n    (['Dm', 'G', 'C'], \"Medium confidence: ii-V-I or modal?\"),\n    (['C'], \"Lower confidence: Single chord is ambiguous\")\n]\n\nprint(\"🎯 CONFIDENCE LEVEL EXAMPLES\")\nprint(\"=\" * 50)\n\nfor progression, description in confidence_examples:\n    result = await analyze_progression_multiple(progression)\n\n    print(f\"\\n🎼 {' - '.join(progression)}\")\n    print(f\"   Expected: {description}\")\n    print(f\"   Confidence: {result.primary_analysis.confidence:.0%}\")\n    print(f\"   Analysis: {result.primary_analysis.analysis}\")\n\n    # Categorize confidence level\n    conf = result.primary_analysis.confidence\n    if conf >= 0.85:\n        level = \"VERY HIGH (85-100%)\"\n        meaning = \"Unambiguous, textbook example\"\n    elif conf >= 0.65:\n        level = \"HIGH (65-84%)\"\n        meaning = \"Clear interpretation with minimal alternatives\"\n    elif conf >= 0.45:\n        level = \"MEDIUM (45-64%)\"\n        meaning = \"Valid but has reasonable alternatives\"\n    elif conf >= 0.25:\n        level = \"LOW (25-44%)\"\n        meaning = \"Theoretically possible but uncertain\"\n    else:\n        level = \"VERY LOW (0-24%)\"\n        meaning = \"Requires significant assumptions\"\n\n    print(f\"   📊 Confidence level: {level}\")\n    print(f\"   🧠 What this means: {meaning}\")\n\n    # Check for alternatives\n    if result.alternative_analyses:\n        print(f\"   🤔 Alternatives found: {len(result.alternative_analyses)}\")\n        for i, alt in enumerate(result.alternative_analyses, 1):\n            print(f\"      {i}. {alt.analysis} (confidence: {alt.confidence:.0%})\")\n    else:\n        print(f\"   ✅ No alternatives above threshold\")\n\nprint(f\"\\n🎯 Teaching Point:\")\nprint(f\"   Confidence scores reflect musical reality - most music has some ambiguity\")\nprint(f\"   High confidence (80%+) is rare and indicates textbook examples\")\nprint(f\"   Medium confidence (45-80%) is normal for interesting, real-world music\")",
   "outputs": [
    {
     "name": "stdout",
     "output_type": "stream",
     "text": [
      "🎯 CONFIDENCE LEVEL EXAMPLES\n",
      "==================================================\n",
      "\n",
      "🎼 C - F - G - C\n",
      "   Expected: High confidence: Textbook I-IV-V-I\n",
      "   Confidence: 90%\n",
      "   Analysis: Functional progression: I - IV - V - I (authentic cadence)\n",
      "   📊 Confidence level: VERY HIGH (85-100%)\n",
      "   🧠 What this means: Unambiguous, textbook example\n",
      "   ✅ No alternatives above threshold\n",
      "\n",
      "🎼 Am - F - C - G\n",
      "   Expected: Medium confidence: Could be C major or A minor\n",
      "   Confidence: 69%\n",
      "   Analysis: A Aeolian modal progression\n",
      "   📊 Confidence level: HIGH (65-84%)\n",
      "   🧠 What this means: Clear interpretation with minimal alternatives\n",
      "   🤔 Alternatives found: 1\n",
      "      1. Functional progression: i - VI - III - VII (confidence: 50%)\n",
      "\n",
      "🎼 Dm - G - C\n",
      "   Expected: Medium confidence: ii-V-I or modal?\n",
      "   Confidence: 69%\n",
      "   Analysis: D Dorian modal progression\n",
      "   📊 Confidence level: HIGH (65-84%)\n",
      "   🧠 What this means: Clear interpretation with minimal alternatives\n",
      "   ✅ No alternatives above threshold\n",
      "\n",
      "🎼 C\n",
      "   Expected: Lower confidence: Single chord is ambiguous\n",
      "   Confidence: 45%\n",
      "   Analysis: Functional progression: I\n",
      "   📊 Confidence level: MEDIUM (45-64%)\n",
      "   🧠 What this means: Valid but has reasonable alternatives\n",
      "   ✅ No alternatives above threshold\n",
      "\n",
      "🎯 Teaching Point:\n",
      "   Confidence scores reflect musical reality - most music has some ambiguity\n",
      "   High confidence (80%+) is rare and indicates textbook examples\n",
      "   Medium confidence (45-80%) is normal for interesting, real-world music\n"
     ]
    }
   ],
   "execution_count": 8
  },
  {
   "cell_type": "markdown",
   "metadata": {},
   "source": [
    "## Part 6: Practical Applications by Genre\n",
    "\n",
    "Let's see how the library handles different musical styles:"
   ]
  },
  {
   "cell_type": "code",
   "metadata": {
    "ExecuteTime": {
     "end_time": "2025-08-28T19:11:13.050416Z",
     "start_time": "2025-08-28T19:11:13.043510Z"
    }
   },
   "source": "# Genre-specific examples\ngenre_examples = [\n    ('Jazz', ['Dm7', 'G7', 'Em7b5', 'A7', 'Dm7'], \"ii-V-i with tonicization\"),\n    ('Pop', ['C', 'G', 'Am', 'F'], \"The '4 chords song' progression\"),\n    ('Folk/Modal', ['G', 'F', 'C', 'G'], \"Mixolydian modal progression\"),\n    ('Classical', ['C', 'F', 'G', 'Am'], \"Deceptive cadence (V→vi)\"),\n    ('Rock', ['Em', 'C', 'G', 'D'], \"vi-IV-I-V in G major\")\n]\n\nprint(\"🎭 GENRE-SPECIFIC ANALYSIS\")\nprint(\"=\" * 50)\n\nfor genre, progression, description in genre_examples:\n    result = await analyze_progression_multiple(progression)\n\n    print(f\"\\n🎼 {genre.upper()}: {' - '.join(progression)}\")\n    print(f\"   Expected: {description}\")\n    print(f\"   Analysis: {result.primary_analysis.analysis}\")\n    print(f\"   Type: {result.primary_analysis.type.value}\")\n    print(f\"   Confidence: {result.primary_analysis.confidence:.0%}\")\n\n    # Show genre-specific insights\n    if genre == 'Jazz' and result.primary_analysis.roman_numerals:\n        print(f\"   🎺 Jazz insight: {' - '.join(result.primary_analysis.roman_numerals)} shows ii-V motion\")\n    elif genre == 'Pop' and result.primary_analysis.confidence > 0.8:\n        print(f\"   🎤 Pop insight: Very high confidence indicates this is a standard progression\")\n    elif genre == 'Folk/Modal' and result.primary_analysis.type.value == 'modal':\n        print(f\"   🏞️ Modal insight: {result.primary_analysis.mode} is common in folk music\")\n        if result.primary_analysis.modal_characteristics:\n            print(f\"   ✨ Key characteristic: {result.primary_analysis.modal_characteristics[0]}\")\n    elif genre == 'Classical' and 'deceptive' in result.primary_analysis.analysis.lower():\n        print(f\"   🎼 Classical insight: Deceptive cadence creates surprise and forward motion\")\n    elif genre == 'Rock':\n        print(f\"   🎸 Rock insight: This progression powers countless rock songs\")\n\n    # Check for suggestions specific to genre\n    if result.suggestions and result.suggestions.parent_key_suggestions:\n        suggestion = result.suggestions.parent_key_suggestions[0]\n        print(f\"   💡 Suggestion: Try '{suggestion.suggested_key}' for {genre.lower()} context\")\n    else:\n        print(f\"   ✅ No suggestions needed for this {genre.lower()} progression\")",
   "outputs": [
    {
     "name": "stdout",
     "output_type": "stream",
     "text": [
      "🎭 GENRE-SPECIFIC ANALYSIS\n",
      "==================================================\n",
      "\n",
      "🎼 JAZZ: Dm7 - G7 - Em7b5 - A7 - Dm7\n",
      "   Expected: ii-V-i with tonicization\n",
      "   Analysis: D Dorian modal progression\n",
      "   Type: modal\n",
      "   Confidence: 71%\n",
      "   ✅ No suggestions needed for this jazz progression\n",
      "\n",
      "🎼 POP: C - G - Am - F\n",
      "   Expected: The '4 chords song' progression\n",
      "   Analysis: Functional progression: I - V - vi - IV (authentic cadence)\n",
      "   Type: functional\n",
      "   Confidence: 96%\n",
      "   🎤 Pop insight: Very high confidence indicates this is a standard progression\n",
      "   ✅ No suggestions needed for this pop progression\n",
      "\n",
      "🎼 FOLK/MODAL: G - F - C - G\n",
      "   Expected: Mixolydian modal progression\n",
      "   Analysis: Functional progression: I - bVII - IV - I (plagal cadence). Contains 1 chromatic element(s)\n",
      "   Type: functional\n",
      "   Confidence: 80%\n",
      "   ✅ No suggestions needed for this folk/modal progression\n",
      "\n",
      "🎼 CLASSICAL: C - F - G - Am\n",
      "   Expected: Deceptive cadence (V→vi)\n",
      "   Analysis: Functional progression: I - IV - V - vi (authentic cadence)\n",
      "   Type: functional\n",
      "   Confidence: 86%\n",
      "   ✅ No suggestions needed for this classical progression\n",
      "\n",
      "🎼 ROCK: Em - C - G - D\n",
      "   Expected: vi-IV-I-V in G major\n",
      "   Analysis: E Aeolian modal progression\n",
      "   Type: modal\n",
      "   Confidence: 69%\n",
      "   🎸 Rock insight: This progression powers countless rock songs\n",
      "   ✅ No suggestions needed for this rock progression\n"
     ]
    }
   ],
   "execution_count": 9
  },
  {
   "cell_type": "markdown",
   "metadata": {},
   "source": [
    "## Part 7: Advanced Features and Options\n",
    "\n",
    "Fine-tune your analysis with advanced options:"
   ]
  },
  {
   "cell_type": "code",
   "metadata": {
    "ExecuteTime": {
     "end_time": "2025-08-28T19:11:13.063470Z",
     "start_time": "2025-08-28T19:11:13.055808Z"
    }
   },
   "source": "# Demonstrate advanced analysis options\ncomplex_progression = ['G', 'Am', 'Bm', 'C', 'D', 'Em', 'F#dim', 'G']\n\nprint(\"⚙️ ADVANCED ANALYSIS OPTIONS\")\nprint(f\"Progression: {' - '.join(complex_progression)}\")\nprint(\"=\" * 60)\n\n# Option 1: Basic analysis\nprint(\"📊 BASIC ANALYSIS:\")\nbasic = await analyze_progression_multiple(complex_progression)\nprint(f\"   Analysis: {basic.primary_analysis.analysis}\")\nprint(f\"   Confidence: {basic.primary_analysis.confidence:.0%}\")\nprint(f\"   Alternatives shown: {len(basic.alternative_analyses)}\")\n\n# Option 2: With parent key context\nprint(f\"\\n🗝️ WITH PARENT KEY CONTEXT:\")\nwith_key = await analyze_progression_multiple(\n    complex_progression,\n    AnalysisOptions(parent_key=\"G major\")\n)\nprint(f\"   Analysis: {with_key.primary_analysis.analysis}\")\nprint(f\"   Roman numerals: {with_key.primary_analysis.roman_numerals}\")\nprint(f\"   Confidence: {with_key.primary_analysis.confidence:.0%}\")\nprint(f\"   🎯 Benefit: Parent key provides Roman numeral context\")\n\n# Option 3: Advanced pedagogical level\nprint(f\"\\n🎓 ADVANCED PEDAGOGICAL LEVEL:\")\nadvanced = await analyze_progression_multiple(\n    complex_progression,\n    AnalysisOptions(\n        parent_key=\"G major\",\n        pedagogical_level=\"advanced\",\n        confidence_threshold=0.3,  # Show more alternatives\n        max_alternatives=5\n    )\n)\nprint(f\"   Analysis: {advanced.primary_analysis.analysis}\")\nprint(f\"   Alternatives shown: {len(advanced.alternative_analyses)} (vs {len(basic.alternative_analyses)} in basic)\")\nprint(f\"   🎯 Benefit: More detailed analysis for advanced musicians\")\n\n# Show the alternatives\nif advanced.alternative_analyses:\n    print(f\"   🤔 Alternative interpretations:\")\n    for i, alt in enumerate(advanced.alternative_analyses, 1):\n        print(f\"      {i}. {alt.analysis} (confidence: {alt.confidence:.0%})\")\n\n# Option 4: Different confidence threshold\nprint(f\"\\n📊 CONFIDENCE THRESHOLD COMPARISON:\")\nthresholds = [0.7, 0.5, 0.3]\nfor threshold in thresholds:\n    result = await analyze_progression_multiple(\n        complex_progression,\n        AnalysisOptions(confidence_threshold=threshold)\n    )\n    print(f\"   Threshold {threshold}: {len(result.alternative_analyses)} alternatives shown\")\n\nprint(f\"\\n🎯 Teaching Points:\")\nprint(f\"   • parent_key: Provides harmonic context for Roman numerals\")\nprint(f\"   • pedagogical_level: 'advanced' shows more alternatives and detail\")\nprint(f\"   • confidence_threshold: Lower values show more alternative interpretations\")\nprint(f\"   • max_alternatives: Limits how many alternatives to show\")",
   "outputs": [
    {
     "name": "stdout",
     "output_type": "stream",
     "text": [
      "⚙️ ADVANCED ANALYSIS OPTIONS\n",
      "Progression: G - Am - Bm - C - D - Em - F#dim - G\n",
      "============================================================\n",
      "📊 BASIC ANALYSIS:\n",
      "   Analysis: Functional progression: I - ii - iii - IV - V - vi - vii° - I (authentic cadence)\n",
      "   Confidence: 90%\n",
      "   Alternatives shown: 1\n",
      "\n",
      "🗝️ WITH PARENT KEY CONTEXT:\n",
      "   Analysis: Functional progression: I - ii - iii - IV - V - vi - vii° - I (authentic cadence)\n",
      "   Roman numerals: ['I', 'ii', 'iii', 'IV', 'V', 'vi', 'vii°', 'I']\n",
      "   Confidence: 90%\n",
      "   🎯 Benefit: Parent key provides Roman numeral context\n",
      "\n",
      "🎓 ADVANCED PEDAGOGICAL LEVEL:\n",
      "   Analysis: Functional progression: I - ii - iii - IV - V - vi - vii° - I (authentic cadence)\n",
      "   Alternatives shown: 1 (vs 1 in basic)\n",
      "   🎯 Benefit: More detailed analysis for advanced musicians\n",
      "   🤔 Alternative interpretations:\n",
      "      1. G Dorian modal progression (confidence: 85%)\n",
      "\n",
      "📊 CONFIDENCE THRESHOLD COMPARISON:\n",
      "   Threshold 0.7: 1 alternatives shown\n",
      "   Threshold 0.5: 1 alternatives shown\n",
      "   Threshold 0.3: 1 alternatives shown\n",
      "\n",
      "🎯 Teaching Points:\n",
      "   • parent_key: Provides harmonic context for Roman numerals\n",
      "   • pedagogical_level: 'advanced' shows more alternatives and detail\n",
      "   • confidence_threshold: Lower values show more alternative interpretations\n",
      "   • max_alternatives: Limits how many alternatives to show\n"
     ]
    }
   ],
   "execution_count": 10
  },
  {
   "cell_type": "markdown",
   "metadata": {},
   "source": [
    "## Part 8: Key Format Requirements\n",
    "\n",
    "**Important**: Parent keys must be in specific format to work correctly:"
   ]
  },
  {
   "cell_type": "code",
   "metadata": {
    "ExecuteTime": {
     "end_time": "2025-08-28T19:11:13.071783Z",
     "start_time": "2025-08-28T19:11:13.067090Z"
    }
   },
   "source": "# Test different key formats\nprogression = ['Dm7', 'G7', 'Cmaj7']\nkey_formats = [\n    'C major',  # ✅ Correct format\n    'C Major',  # ✅ Correct format\n    'C',  # ❌ Wrong format\n    'c major',  # ❌ Wrong format (lowercase)\n    'C_major',  # ❌ Wrong format (underscore)\n    'c',  # ❌ Wrong format\n]\n\nprint(\"🔑 KEY FORMAT REQUIREMENTS\")\nprint(f\"Testing with: {' - '.join(progression)}\")\nprint(\"=\" * 50)\n\nfor key_format in key_formats:\n    result = await analyze_progression_multiple(\n        progression,\n        AnalysisOptions(parent_key=key_format)\n    )\n\n    # Check if key was recognized by looking at analysis\n    recognized = (\n            result.primary_analysis.key_signature == 'C major' and\n            result.primary_analysis.roman_numerals == ['ii7', 'V7', 'I7']\n    )\n\n    status = \"✅ WORKS\" if recognized else \"❌ FAILS\"\n    print(f\"   '{key_format}' → {status}\")\n    print(f\"      Key detected: {result.primary_analysis.key_signature}\")\n    print(f\"      Roman numerals: {result.primary_analysis.roman_numerals or 'None'}\")\n    print()\n\nprint(\"🎯 Key Format Rules:\")\nprint(\"   ✅ USE: 'C major', 'A minor', 'F# major', 'Bb minor'\")\nprint(\"   ✅ Capitalization: 'C Major' also works\")\nprint(\"   ❌ AVOID: 'C', 'c major', 'C_major', 'C-major'\")\nprint(\"   📝 Rule: [Capital Note][accidental] [major/minor]\")\n\nprint(f\"\\n💡 Pro Tip:\")\nprint(f\"   If you're not getting expected results, check your key format first!\")\nprint(f\"   Wrong key formats default to no-key analysis\")",
   "outputs": [
    {
     "name": "stdout",
     "output_type": "stream",
     "text": [
      "🔑 KEY FORMAT REQUIREMENTS\n",
      "Testing with: Dm7 - G7 - Cmaj7\n",
      "==================================================\n",
      "   'C major' → ✅ WORKS\n",
      "      Key detected: C major\n",
      "      Roman numerals: ['ii7', 'V7', 'I7']\n",
      "\n",
      "   'C Major' → ✅ WORKS\n",
      "      Key detected: C major\n",
      "      Roman numerals: ['ii7', 'V7', 'I7']\n",
      "\n",
      "   'C' → ❌ FAILS\n",
      "      Key detected: D minor\n",
      "      Roman numerals: ['i7', 'V7/bII', 'VII7']\n",
      "\n",
      "   'c major' → ❌ FAILS\n",
      "      Key detected: D minor\n",
      "      Roman numerals: ['i7', 'V7/bII', 'VII7']\n",
      "\n",
      "   'C_major' → ❌ FAILS\n",
      "      Key detected: D minor\n",
      "      Roman numerals: ['i7', 'V7/bII', 'VII7']\n",
      "\n",
      "   'c' → ❌ FAILS\n",
      "      Key detected: D minor\n",
      "      Roman numerals: ['i7', 'V7/bII', 'VII7']\n",
      "\n",
      "🎯 Key Format Rules:\n",
      "   ✅ USE: 'C major', 'A minor', 'F# major', 'Bb minor'\n",
      "   ✅ Capitalization: 'C Major' also works\n",
      "   ❌ AVOID: 'C', 'c major', 'C_major', 'C-major'\n",
      "   📝 Rule: [Capital Note][accidental] [major/minor]\n",
      "\n",
      "💡 Pro Tip:\n",
      "   If you're not getting expected results, check your key format first!\n",
      "   Wrong key formats default to no-key analysis\n"
     ]
    }
   ],
   "execution_count": 11
  },
  {
   "cell_type": "markdown",
   "metadata": {},
   "source": [
    "## Part 9: Your Turn - Interactive Experimentation\n",
    "\n",
    "Now experiment with your own progressions and see the system in action:"
   ]
  },
  {
   "cell_type": "code",
   "metadata": {
    "ExecuteTime": {
     "end_time": "2025-08-28T19:11:13.084305Z",
     "start_time": "2025-08-28T19:11:13.077818Z"
    }
   },
   "source": "# YOUR TURN: Try your own progressions!\n# Edit these examples and run the cell to see how the analysis changes\n\nmy_progressions = [\n    # Classic progressions to try:\n    ['C', 'Am', 'F', 'G'],  # Pop progression\n    ['Am', 'F', 'C', 'G'],  # Same chords, different order\n    ['Dm7', 'G7', 'Cmaj7'],  # Jazz ii-V-I\n    ['Em', 'Am', 'D', 'G'],  # Folk progression\n    ['F', 'G', 'Em', 'Am'],  # Try this one!\n\n    # Add your own progressions here:\n    # ['your', 'progression', 'here'],\n]\n\nprint(\"🎼 YOUR PROGRESSION ANALYSIS LAB\")\nprint(\"=\" * 50)\n\nfor i, progression in enumerate(my_progressions, 1):\n    print(f\"\\n{i}. ANALYZING: {' - '.join(progression)}\")\n    print(\"-\" * 40)\n\n    # Step 1: Basic analysis\n    result = await analyze_progression_multiple(progression)\n    print(f\"   Analysis: {result.primary_analysis.analysis}\")\n    print(f\"   Type: {result.primary_analysis.type.value}\")\n    print(f\"   Confidence: {result.primary_analysis.confidence:.0%}\")\n    print(f\"   Roman numerals: {result.primary_analysis.roman_numerals or 'None'}\")\n\n    # Step 2: Check for suggestions\n    suggestions_found = False\n    if result.suggestions:\n        if result.suggestions.parent_key_suggestions:\n            suggestions_found = True\n            suggestion = result.suggestions.parent_key_suggestions[0]\n            print(f\"   💡 SUGGESTION: Try '{suggestion.suggested_key}'\")\n            print(f\"      Reason: {suggestion.reason}\")\n\n            # Try the suggestion\n            better = await analyze_progression_multiple(\n                progression,\n                AnalysisOptions(parent_key=suggestion.suggested_key)\n            )\n            print(f\"   ✨ WITH SUGGESTION: {better.primary_analysis.analysis}\")\n            print(f\"      Roman numerals: {better.primary_analysis.roman_numerals}\")\n\n    if not suggestions_found:\n        print(f\"   ✅ No suggestions - analysis is already good!\")\n\n    # Step 3: Show alternatives if any\n    if result.alternative_analyses:\n        print(\n            f\"   🤔 Alternative: {result.alternative_analyses[0].analysis} ({result.alternative_analyses[0].confidence:.0%})\")\n\nprint(f\"\\n🎯 Experiment Ideas:\")\nprint(f\"   • Try the same chords in different orders\")\nprint(f\"   • Add 7ths to chords (C → Cmaj7, Am → Am7)\")\nprint(f\"   • Try modal progressions (Dm-G-Dm-C for Dorian)\")\nprint(f\"   • Experiment with jazz extensions (Dm7, G13, Cmaj9)\")\nprint(f\"   • Test classical progressions (I-vi-IV-V variants)\")",
   "outputs": [
    {
     "name": "stdout",
     "output_type": "stream",
     "text": [
      "🎼 YOUR PROGRESSION ANALYSIS LAB\n",
      "==================================================\n",
      "\n",
      "1. ANALYZING: C - Am - F - G\n",
      "----------------------------------------\n",
      "   Analysis: Functional progression: I - vi - IV - V\n",
      "   Type: functional\n",
      "   Confidence: 86%\n",
      "   Roman numerals: ['I', 'vi', 'IV', 'V']\n",
      "   ✅ No suggestions - analysis is already good!\n",
      "\n",
      "2. ANALYZING: Am - F - C - G\n",
      "----------------------------------------\n",
      "   Analysis: A Aeolian modal progression\n",
      "   Type: modal\n",
      "   Confidence: 69%\n",
      "   Roman numerals: None\n",
      "   ✅ No suggestions - analysis is already good!\n",
      "   🤔 Alternative: Functional progression: i - VI - III - VII (50%)\n",
      "\n",
      "3. ANALYZING: Dm7 - G7 - Cmaj7\n",
      "----------------------------------------\n",
      "   Analysis: D Dorian modal progression\n",
      "   Type: modal\n",
      "   Confidence: 69%\n",
      "   Roman numerals: None\n",
      "   💡 SUGGESTION: Try 'C major'\n",
      "      Reason: Contains ii-V-I progression\n",
      "   ✨ WITH SUGGESTION: Functional progression: ii7 - V7 - I7. Contains 1 chromatic element(s)\n",
      "      Roman numerals: ['ii7', 'V7', 'I7']\n",
      "\n",
      "4. ANALYZING: Em - Am - D - G\n",
      "----------------------------------------\n",
      "   Analysis: Functional progression: i - iv - VII - III (plagal cadence)\n",
      "   Type: functional\n",
      "   Confidence: 72%\n",
      "   Roman numerals: ['i', 'iv', 'VII', 'III']\n",
      "   💡 SUGGESTION: Try 'G major'\n",
      "      Reason: Contains ii-V-I progression\n",
      "   ✨ WITH SUGGESTION: Functional progression: vi - ii - V - I (authentic cadence)\n",
      "      Roman numerals: ['vi', 'ii', 'V', 'I']\n",
      "   🤔 Alternative: E Aeolian modal progression (69%)\n",
      "\n",
      "5. ANALYZING: F - G - Em - Am\n",
      "----------------------------------------\n",
      "   Analysis: Functional progression: I - V/V - vii - iii. Contains 2 chromatic element(s)\n",
      "   Type: functional\n",
      "   Confidence: 47%\n",
      "   Roman numerals: ['I', 'V/V', 'vii', 'iii']\n",
      "   💡 SUGGESTION: Try 'A minor'\n",
      "      Reason: Contains ii-V-I progression\n",
      "   ✨ WITH SUGGESTION: Functional progression: VI - VII - v - i (authentic cadence)\n",
      "      Roman numerals: ['VI', 'VII', 'v', 'i']\n",
      "\n",
      "🎯 Experiment Ideas:\n",
      "   • Try the same chords in different orders\n",
      "   • Add 7ths to chords (C → Cmaj7, Am → Am7)\n",
      "   • Try modal progressions (Dm-G-Dm-C for Dorian)\n",
      "   • Experiment with jazz extensions (Dm7, G13, Cmaj9)\n",
      "   • Test classical progressions (I-vi-IV-V variants)\n"
     ]
    }
   ],
   "execution_count": 12
  },
  {
   "cell_type": "markdown",
   "metadata": {},
   "source": "## 🆕 Part 10: Specialized Modules - Advanced Features\n\nThe library's layered API includes specialized modules for advanced use cases. Let's explore them:\n\n### 📚 Theory Module - Music Theory Constants and Utilities"
  },
  {
   "cell_type": "code",
   "metadata": {
    "ExecuteTime": {
     "end_time": "2025-08-28T19:11:13.096846Z",
     "start_time": "2025-08-28T19:11:13.093489Z"
    }
   },
   "source": "# THEORY MODULE - Music theory constants and analysis utilities\nfrom harmonic_analysis.theory import (\n    MODAL_CHARACTERISTICS,\n    get_modal_characteristics, \n    get_interval_name,\n    ALL_MODES,\n    SEMITONE_TO_INTERVAL_NAME\n)\n\nprint(\"📚 THEORY MODULE DEMONSTRATION\")\nprint(\"=\" * 50)\n\n# 1. Modal characteristics lookup\nprint(\"🎨 Modal Characteristics:\")\ndorian_info = get_modal_characteristics(\"Dorian\")\nif dorian_info:\n    print(f\"   Dorian mode: {dorian_info.name}\")  # FIXED: Use .name instead of .description\n    print(f\"   Characteristic degrees: {dorian_info.characteristic_degrees}\")\n    print(f\"   Harmonic implications: {dorian_info.harmonic_implications[:2]}...\")  # Show first 2\n    print(f\"   Brightness: {dorian_info.brightness}\")\n    print(f\"   Applications: {dorian_info.typical_applications[:2]}...\")  # Show first 2\n\n# 2. Interval analysis\nprint(f\"\\n📐 Interval Analysis:\")\nintervals_to_check = [3, 4, 7, 10]\nfor semitones in intervals_to_check:\n    interval_name = get_interval_name(semitones)\n    print(f\"   {semitones} semitones = {interval_name}\")\n\n# 3. Available modes reference - FIXED: ALL_MODES is a list, not a dict\nprint(f\"\\n🎼 Available Modes:\")\nprint(f\"   All modes: {ALL_MODES[:4]}...\")  # First 4 modes\nprint(f\"   Total modes: {len(ALL_MODES)} modes available\")\nprint(f\"   Examples: {', '.join(ALL_MODES[1:4])}\")  # Show some examples\n\n# 4. Quick interval lookup\nprint(f\"\\n🔍 Quick Interval Reference:\")\ncommon_intervals = [1, 2, 3, 4, 5, 7, 11]\nfor st in common_intervals:\n    print(f\"   {st}: {SEMITONE_TO_INTERVAL_NAME.get(st, 'Unknown')}\")\n\nprint(f\"\\n💡 Use Case: Perfect for building music theory apps or educational tools\")",
   "outputs": [
    {
     "name": "stdout",
     "output_type": "stream",
     "text": [
      "📚 THEORY MODULE DEMONSTRATION\n",
      "==================================================\n",
      "🎨 Modal Characteristics:\n",
      "   Dorian mode: Dorian\n",
      "   Characteristic degrees: ['1', '♭3', '6', '♭7']\n",
      "   Harmonic implications: ['Natural 6th creates brighter minor sound', 'Modal quality without leading tone']...\n",
      "   Brightness: neutral\n",
      "   Applications: ['Jazz and folk music', 'Celtic and medieval music']...\n",
      "\n",
      "📐 Interval Analysis:\n",
      "   3 semitones = Minor 3rd\n",
      "   4 semitones = Major 3rd\n",
      "   7 semitones = Perfect 5th\n",
      "   10 semitones = Minor 7th\n",
      "\n",
      "🎼 Available Modes:\n",
      "   All modes: ['Ionian', 'Dorian', 'Phrygian', 'Lydian']...\n",
      "   Total modes: 8 modes available\n",
      "   Examples: Dorian, Phrygian, Lydian\n",
      "\n",
      "🔍 Quick Interval Reference:\n",
      "   1: Minor 2nd\n",
      "   2: Major 2nd\n",
      "   3: Minor 3rd\n",
      "   4: Major 3rd\n",
      "   5: Perfect 4th\n",
      "   7: Perfect 5th\n",
      "   11: Major 7th\n",
      "\n",
      "💡 Use Case: Perfect for building music theory apps or educational tools\n"
     ]
    }
   ],
   "execution_count": 13
  },
  {
   "cell_type": "code",
   "source": "# MIDI MODULE - Chord parsing and MIDI integration\nfrom harmonic_analysis.midi import parse_chord, find_chords_from_midi\n\nprint(\"🎹 MIDI MODULE DEMONSTRATION\")\nprint(\"=\" * 50)\n\n# 1. Advanced chord parsing\nprint(\"🎵 Advanced Chord Parsing:\")\ncomplex_chords = [\n    \"Cmaj7#11\",\n    \"Dm7b5\", \n    \"G7sus4\",\n    \"Am/C\",  # Slash chord\n    \"F#dim7\"\n]\n\nfor chord_name in complex_chords:\n    try:\n        parsed = parse_chord(chord_name)\n        print(f\"   {chord_name}: {parsed.notes} ({parsed.chord_type})\")\n    except Exception as e:\n        print(f\"   {chord_name}: Parsing failed ({str(e)})\")\n\n# 2. MIDI note analysis\nprint(f\"\\n🎼 MIDI Note to Chord Analysis:\")\n# Simulate MIDI note numbers for a C major 7 chord\nmidi_notes = [60, 64, 67, 71]  # C, E, G, B\nprint(f\"   MIDI notes: {midi_notes}\")\n\n# Convert to note names for demonstration\nnote_names = ['C', 'E', 'G', 'B']\nprint(f\"   Note names: {note_names}\")\n\n# Use find_chords_from_midi if it exists, or parse_chord as fallback\ntry:\n    # This would work with actual MIDI data\n    potential_chords = find_chords_from_midi(midi_notes)\n    print(f\"   Detected chords: {potential_chords[:3]}...\")  # Show first 3\nexcept:\n    # Fallback demonstration\n    try:\n        cmaj7 = parse_chord(\"Cmaj7\")\n        print(f\"   Example chord match: Cmaj7 = {cmaj7.notes}\")\n    except:\n        print(f\"   Example: These notes form a Cmaj7 chord\")\n\nprint(f\"\\n💡 Use Case: Perfect for DAW plugins, MIDI analysis, and real-time chord detection\")",
   "metadata": {
    "ExecuteTime": {
     "end_time": "2025-08-28T19:11:13.104409Z",
     "start_time": "2025-08-28T19:11:13.099842Z"
    }
   },
   "outputs": [
    {
     "name": "stdout",
     "output_type": "stream",
     "text": [
      "🎹 MIDI MODULE DEMONSTRATION\n",
      "==================================================\n",
      "🎵 Advanced Chord Parsing:\n",
      "   Cmaj7#11: Parsing failed ('dict' object has no attribute 'notes')\n",
      "   Dm7b5: Parsing failed ('dict' object has no attribute 'notes')\n",
      "   G7sus4: Parsing failed ('dict' object has no attribute 'notes')\n",
      "   Am/C: Parsing failed ('dict' object has no attribute 'notes')\n",
      "   F#dim7: Parsing failed ('dict' object has no attribute 'notes')\n",
      "\n",
      "🎼 MIDI Note to Chord Analysis:\n",
      "   MIDI notes: [60, 64, 67, 71]\n",
      "   Note names: ['C', 'E', 'G', 'B']\n",
      "   Detected chords: [ChordMatch(chord_symbol='Cmaj7', chord_name='Major 7th', root=0, root_name='C', intervals=[0, 4, 7, 11], confidence=1, inversion='', bass_note=0, is_partial=False, missing_notes=None, completion_suggestion=None, pedagogical_note=None), ChordMatch(chord_symbol='C', chord_name='Major', root=0, root_name='C', intervals=[0, 4, 7, 11], confidence=0.92, inversion='', bass_note=0, is_partial=False, missing_notes=None, completion_suggestion=None, pedagogical_note=None), ChordMatch(chord_symbol='Em/C', chord_name='Minor', root=4, root_name='E', intervals=[8, 0, 3, 7], confidence=0.92, inversion='/C', bass_note=0, is_partial=False, missing_notes=None, completion_suggestion=None, pedagogical_note=None)]...\n",
      "\n",
      "💡 Use Case: Perfect for DAW plugins, MIDI analysis, and real-time chord detection\n"
     ]
    }
   ],
   "execution_count": 14
  },
  {
   "cell_type": "markdown",
   "source": "### 🎹 MIDI Module - Chord Parsing and MIDI Integration",
   "metadata": {}
  },
  {
   "cell_type": "code",
   "source": "# ALGORITHMS MODULE - Advanced analysis engines\nfrom harmonic_analysis.algorithms import BidirectionalSuggestionEngine\n\nprint(\"🧠 ALGORITHMS MODULE DEMONSTRATION\")\nprint(\"=\" * 50)\n\n# Demonstrate the suggestion engine directly\nprint(\"💡 Bidirectional Suggestion Engine:\")\nsuggestion_engine = BidirectionalSuggestionEngine()\n\n# Example progression that should trigger suggestions\ntest_progression = ['Dm7', 'G7', 'Cmaj7']\nprint(f\"   Testing progression: {' - '.join(test_progression)}\")\n\n# The suggestion engine is used internally by analyze_progression_multiple\n# Let's show how it's integrated into the main analysis\nresult = await analyze_progression_multiple(test_progression)\n\nif result.suggestions:\n    print(f\"   ✅ Suggestion engine found improvements:\")\n    if result.suggestions.parent_key_suggestions:\n        for suggestion in result.suggestions.parent_key_suggestions[:2]:\n            print(f\"      • Add '{suggestion.suggested_key}': {suggestion.reason}\")\n            print(f\"      • Confidence: {suggestion.confidence:.0%}\")\n            print(f\"      • Improvement type: {suggestion.improvement_type}\")\nelse:\n    print(f\"   ✅ No suggestions needed - progression is already well-analyzed\")\n\nprint(f\"\\n🔧 Behind the Scenes:\")\nprint(f\"   • The suggestion engine runs algorithmic pattern detection\")\nprint(f\"   • It compares analysis quality with/without key context\")\nprint(f\"   • Uses weighted scoring: patterns (30%), confidence (20%), type (20%), clarity (30%)\")\nprint(f\"   • Powers the bidirectional suggestion system you saw earlier\")\n\nprint(f\"\\n💡 Use Case: Research applications, music analysis tools, AI-assisted composition\")",
   "metadata": {
    "ExecuteTime": {
     "end_time": "2025-08-28T19:11:13.188747Z",
     "start_time": "2025-08-28T19:11:13.110116Z"
    }
   },
   "outputs": [
    {
     "name": "stdout",
     "output_type": "stream",
     "text": [
      "🧠 ALGORITHMS MODULE DEMONSTRATION\n",
      "==================================================\n",
      "💡 Bidirectional Suggestion Engine:\n",
      "   Testing progression: Dm7 - G7 - Cmaj7\n",
      "   ✅ Suggestion engine found improvements:\n",
      "      • Add 'C major': Contains ii-V-I progression\n",
      "      • Confidence: 78%\n"
     ]
    },
    {
     "ename": "AttributeError",
     "evalue": "'KeySuggestion' object has no attribute 'improvement_type'",
     "output_type": "error",
     "traceback": [
      "\u001B[31m---------------------------------------------------------------------------\u001B[39m",
      "\u001B[31mAttributeError\u001B[39m                            Traceback (most recent call last)",
      "\u001B[36mCell\u001B[39m\u001B[36m \u001B[39m\u001B[32mIn[15]\u001B[39m\u001B[32m, line 25\u001B[39m\n\u001B[32m     23\u001B[39m             \u001B[38;5;28mprint\u001B[39m(\u001B[33mf\u001B[39m\u001B[33m\"\u001B[39m\u001B[33m      • Add \u001B[39m\u001B[33m'\u001B[39m\u001B[38;5;132;01m{\u001B[39;00msuggestion.suggested_key\u001B[38;5;132;01m}\u001B[39;00m\u001B[33m'\u001B[39m\u001B[33m: \u001B[39m\u001B[38;5;132;01m{\u001B[39;00msuggestion.reason\u001B[38;5;132;01m}\u001B[39;00m\u001B[33m\"\u001B[39m)\n\u001B[32m     24\u001B[39m             \u001B[38;5;28mprint\u001B[39m(\u001B[33mf\u001B[39m\u001B[33m\"\u001B[39m\u001B[33m      • Confidence: \u001B[39m\u001B[38;5;132;01m{\u001B[39;00msuggestion.confidence\u001B[38;5;132;01m:\u001B[39;00m\u001B[33m.0%\u001B[39m\u001B[38;5;132;01m}\u001B[39;00m\u001B[33m\"\u001B[39m)\n\u001B[32m---> \u001B[39m\u001B[32m25\u001B[39m             \u001B[38;5;28mprint\u001B[39m(\u001B[33mf\u001B[39m\u001B[33m\"\u001B[39m\u001B[33m      • Improvement type: \u001B[39m\u001B[38;5;132;01m{\u001B[39;00m\u001B[43msuggestion\u001B[49m\u001B[43m.\u001B[49m\u001B[43mimprovement_type\u001B[49m\u001B[38;5;132;01m}\u001B[39;00m\u001B[33m\"\u001B[39m)\n\u001B[32m     26\u001B[39m \u001B[38;5;28;01melse\u001B[39;00m:\n\u001B[32m     27\u001B[39m     \u001B[38;5;28mprint\u001B[39m(\u001B[33mf\u001B[39m\u001B[33m\"\u001B[39m\u001B[33m   ✅ No suggestions needed - progression is already well-analyzed\u001B[39m\u001B[33m\"\u001B[39m)\n",
      "\u001B[31mAttributeError\u001B[39m: 'KeySuggestion' object has no attribute 'improvement_type'"
     ]
    }
   ],
   "execution_count": 15
  },
  {
   "cell_type": "markdown",
   "source": "### 🧠 Algorithms Module - Advanced Analysis Engines",
   "metadata": {}
  },
  {
   "cell_type": "code",
   "source": "# POWER USER ACCESS - Direct engine control\nfrom harmonic_analysis.core.enhanced_modal_analyzer import EnhancedModalAnalyzer\nfrom harmonic_analysis.core.functional_harmony import FunctionalHarmonyAnalyzer\n\nprint(\"🔍 POWER USER ACCESS DEMONSTRATION\")\nprint(\"=\" * 50)\n\n# Direct engine usage for research or custom analysis\nprogression = ['C', 'Am', 'F', 'G']\nprint(f\"Analyzing: {' - '.join(progression)}\")\n\n# 1. Direct modal analysis\nprint(f\"\\n🎨 Direct Modal Analysis:\")\nmodal_analyzer = EnhancedModalAnalyzer()\ntry:\n    modal_result = modal_analyzer.analyze(progression)\n    print(f\"   Modal analysis: {modal_result.analysis}\")\n    print(f\"   Confidence: {modal_result.confidence:.0%}\")\n    print(f\"   Evidence pieces: {len(modal_result.evidence)}\")\nexcept Exception as e:\n    print(f\"   Modal analysis: {str(e)} (expected - needs proper setup)\")\n\n# 2. Direct functional analysis  \nprint(f\"\\n🎼 Direct Functional Analysis:\")\nfunctional_analyzer = FunctionalHarmonyAnalyzer()\ntry:\n    functional_result = functional_analyzer.analyze(progression, \"C major\")\n    print(f\"   Functional analysis: {functional_result.analysis}\")\n    print(f\"   Roman numerals: {functional_result.roman_numerals}\")\n    print(f\"   Confidence: {functional_result.confidence:.0%}\")\nexcept Exception as e:\n    print(f\"   Functional analysis: {str(e)} (expected - needs proper setup)\")\n\nprint(f\"\\n⚠️  Note about Power User Access:\")\nprint(f\"   • These engines require specific input formats and setup\")\nprint(f\"   • The main API (analyze_progression_multiple) handles all the complexity\")\nprint(f\"   • Direct access is for researchers building custom analysis pipelines\")\nprint(f\"   • Most users should stick with the main API for reliable results\")\n\nprint(f\"\\n💡 When to Use Direct Engines:\")\nprint(f\"   ✅ Building custom analysis tools\")\nprint(f\"   ✅ Research requiring specific engine behavior\") \nprint(f\"   ✅ Performance optimization for batch processing\")\nprint(f\"   ❌ General music analysis (use main API instead)\")\n\nprint(f\"\\n📚 Recommended Approach:\")\nprint(f\"   1. Start with analyze_progression_multiple() for 99% of use cases\")\nprint(f\"   2. Only use direct engines when you need custom behavior\")\nprint(f\"   3. Study the main API source code to understand engine integration\")",
   "metadata": {},
   "outputs": [],
   "execution_count": null
  },
  {
   "cell_type": "markdown",
   "source": "### 🔍 Power User Access - Direct Engine Control\n\nFor advanced users who need direct access to the analysis engines:",
   "metadata": {}
  },
  {
   "cell_type": "markdown",
   "source": "## Part 11: Summary and Key Takeaways\n\nCongratulations! You've mastered both the main API and specialized modules. Here's what we covered:",
   "metadata": {}
  }
 ],
 "metadata": {
  "kernelspec": {
   "display_name": "Python 3",
   "language": "python",
   "name": "python3"
  },
  "language_info": {
   "codemirror_mode": {
    "name": "ipython",
    "version": 3
   },
   "file_extension": ".py",
   "mimetype": "text/x-python",
   "name": "python",
   "nbconvert_exporter": "python",
   "pygments_lexer": "ipython3",
   "version": "3.11.0"
  }
 },
 "nbformat": 4,
 "nbformat_minor": 4
}
